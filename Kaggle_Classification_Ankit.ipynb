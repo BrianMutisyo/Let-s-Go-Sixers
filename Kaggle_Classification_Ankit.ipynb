{
  "nbformat": 4,
  "nbformat_minor": 0,
  "metadata": {
    "colab": {
      "provenance": [],
      "machine_shape": "hm",
      "gpuType": "T4",
      "include_colab_link": true
    },
    "kernelspec": {
      "name": "python3",
      "display_name": "Python 3"
    },
    "language_info": {
      "name": "python"
    },
    "accelerator": "GPU"
  },
  "cells": [
    {
      "cell_type": "markdown",
      "metadata": {
        "id": "view-in-github",
        "colab_type": "text"
      },
      "source": [
        "<a href=\"https://colab.research.google.com/github/BrianMutisyo/Lets-Go-Sixers/blob/main/Kaggle_Classification_Ankit.ipynb\" target=\"_parent\"><img src=\"https://colab.research.google.com/assets/colab-badge.svg\" alt=\"Open In Colab\"/></a>"
      ]
    },
    {
      "cell_type": "code",
      "execution_count": null,
      "metadata": {
        "id": "aD8BqnKbxX3_"
      },
      "outputs": [],
      "source": []
    },
    {
      "cell_type": "markdown",
      "source": [
        "Hello world!"
      ],
      "metadata": {
        "id": "-t4bq3quxv-A"
      }
    },
    {
      "cell_type": "markdown",
      "source": [
        "# Sam's Section"
      ],
      "metadata": {
        "id": "fPdOEDKJx6mD"
      }
    },
    {
      "cell_type": "markdown",
      "source": [
        "# Ankit's Section"
      ],
      "metadata": {
        "id": "Axj7dWVkyNxD"
      }
    },
    {
      "cell_type": "code",
      "source": [
        "import pandas as pd\n",
        "from sklearn.model_selection import train_test_split\n",
        "from sklearn.ensemble import RandomForestClassifier\n",
        "from sklearn.preprocessing import OneHotEncoder\n",
        "from sklearn.compose import ColumnTransformer\n",
        "from sklearn.metrics import accuracy_score\n",
        "\n",
        "# Load the data\n",
        "train_data = pd.read_csv('train_data.csv')\n",
        "test_data = pd.read_csv('test_data.csv')"
      ],
      "metadata": {
        "id": "-REb6ZnZ3xkr"
      },
      "execution_count": 1,
      "outputs": []
    },
    {
      "cell_type": "code",
      "source": [
        "# Separate features and target\n",
        "X = train_data.drop(columns=['output'])\n",
        "y = train_data['output']"
      ],
      "metadata": {
        "id": "HDqwNVOV4JBe"
      },
      "execution_count": 2,
      "outputs": []
    },
    {
      "cell_type": "code",
      "source": [
        "# Define categorical columns to be encoded\n",
        "categorical_columns = ['subject', 'phase', 'state']"
      ],
      "metadata": {
        "id": "uSOhBGdO4Nid"
      },
      "execution_count": 3,
      "outputs": []
    },
    {
      "cell_type": "code",
      "source": [
        "# One-hot encoding for categorical columns\n",
        "onehot_encoder = ColumnTransformer([\n",
        "    ('onehot', OneHotEncoder(handle_unknown='ignore'), categorical_columns)\n",
        "], remainder='passthrough')"
      ],
      "metadata": {
        "id": "1RFpeF5K4SW6"
      },
      "execution_count": 4,
      "outputs": []
    },
    {
      "cell_type": "code",
      "source": [
        "# Transform the train and test data\n",
        "X_encoded = onehot_encoder.fit_transform(X)\n",
        "test_data_encoded = onehot_encoder.transform(test_data)"
      ],
      "metadata": {
        "id": "12FWe-VM4WYE"
      },
      "execution_count": 5,
      "outputs": []
    },
    {
      "cell_type": "code",
      "source": [
        "# Split the data for validation\n",
        "X_train, X_val, y_train, y_val = train_test_split(X_encoded, y, test_size=0.2, random_state=42)"
      ],
      "metadata": {
        "id": "vRFBsM9e4XvM"
      },
      "execution_count": 6,
      "outputs": []
    },
    {
      "cell_type": "code",
      "source": [
        "# Initialize and train the Random Forest model\n",
        "rf_model = RandomForestClassifier(random_state=42, n_estimators=100)\n",
        "rf_model.fit(X_train, y_train)"
      ],
      "metadata": {
        "colab": {
          "base_uri": "https://localhost:8080/",
          "height": 80
        },
        "id": "wKqeu93K4aw5",
        "outputId": "b16b7f12-2769-4bbd-96ed-b51533d3f39a"
      },
      "execution_count": 7,
      "outputs": [
        {
          "output_type": "execute_result",
          "data": {
            "text/plain": [
              "RandomForestClassifier(random_state=42)"
            ],
            "text/html": [
              "<style>#sk-container-id-1 {\n",
              "  /* Definition of color scheme common for light and dark mode */\n",
              "  --sklearn-color-text: black;\n",
              "  --sklearn-color-line: gray;\n",
              "  /* Definition of color scheme for unfitted estimators */\n",
              "  --sklearn-color-unfitted-level-0: #fff5e6;\n",
              "  --sklearn-color-unfitted-level-1: #f6e4d2;\n",
              "  --sklearn-color-unfitted-level-2: #ffe0b3;\n",
              "  --sklearn-color-unfitted-level-3: chocolate;\n",
              "  /* Definition of color scheme for fitted estimators */\n",
              "  --sklearn-color-fitted-level-0: #f0f8ff;\n",
              "  --sklearn-color-fitted-level-1: #d4ebff;\n",
              "  --sklearn-color-fitted-level-2: #b3dbfd;\n",
              "  --sklearn-color-fitted-level-3: cornflowerblue;\n",
              "\n",
              "  /* Specific color for light theme */\n",
              "  --sklearn-color-text-on-default-background: var(--sg-text-color, var(--theme-code-foreground, var(--jp-content-font-color1, black)));\n",
              "  --sklearn-color-background: var(--sg-background-color, var(--theme-background, var(--jp-layout-color0, white)));\n",
              "  --sklearn-color-border-box: var(--sg-text-color, var(--theme-code-foreground, var(--jp-content-font-color1, black)));\n",
              "  --sklearn-color-icon: #696969;\n",
              "\n",
              "  @media (prefers-color-scheme: dark) {\n",
              "    /* Redefinition of color scheme for dark theme */\n",
              "    --sklearn-color-text-on-default-background: var(--sg-text-color, var(--theme-code-foreground, var(--jp-content-font-color1, white)));\n",
              "    --sklearn-color-background: var(--sg-background-color, var(--theme-background, var(--jp-layout-color0, #111)));\n",
              "    --sklearn-color-border-box: var(--sg-text-color, var(--theme-code-foreground, var(--jp-content-font-color1, white)));\n",
              "    --sklearn-color-icon: #878787;\n",
              "  }\n",
              "}\n",
              "\n",
              "#sk-container-id-1 {\n",
              "  color: var(--sklearn-color-text);\n",
              "}\n",
              "\n",
              "#sk-container-id-1 pre {\n",
              "  padding: 0;\n",
              "}\n",
              "\n",
              "#sk-container-id-1 input.sk-hidden--visually {\n",
              "  border: 0;\n",
              "  clip: rect(1px 1px 1px 1px);\n",
              "  clip: rect(1px, 1px, 1px, 1px);\n",
              "  height: 1px;\n",
              "  margin: -1px;\n",
              "  overflow: hidden;\n",
              "  padding: 0;\n",
              "  position: absolute;\n",
              "  width: 1px;\n",
              "}\n",
              "\n",
              "#sk-container-id-1 div.sk-dashed-wrapped {\n",
              "  border: 1px dashed var(--sklearn-color-line);\n",
              "  margin: 0 0.4em 0.5em 0.4em;\n",
              "  box-sizing: border-box;\n",
              "  padding-bottom: 0.4em;\n",
              "  background-color: var(--sklearn-color-background);\n",
              "}\n",
              "\n",
              "#sk-container-id-1 div.sk-container {\n",
              "  /* jupyter's `normalize.less` sets `[hidden] { display: none; }`\n",
              "     but bootstrap.min.css set `[hidden] { display: none !important; }`\n",
              "     so we also need the `!important` here to be able to override the\n",
              "     default hidden behavior on the sphinx rendered scikit-learn.org.\n",
              "     See: https://github.com/scikit-learn/scikit-learn/issues/21755 */\n",
              "  display: inline-block !important;\n",
              "  position: relative;\n",
              "}\n",
              "\n",
              "#sk-container-id-1 div.sk-text-repr-fallback {\n",
              "  display: none;\n",
              "}\n",
              "\n",
              "div.sk-parallel-item,\n",
              "div.sk-serial,\n",
              "div.sk-item {\n",
              "  /* draw centered vertical line to link estimators */\n",
              "  background-image: linear-gradient(var(--sklearn-color-text-on-default-background), var(--sklearn-color-text-on-default-background));\n",
              "  background-size: 2px 100%;\n",
              "  background-repeat: no-repeat;\n",
              "  background-position: center center;\n",
              "}\n",
              "\n",
              "/* Parallel-specific style estimator block */\n",
              "\n",
              "#sk-container-id-1 div.sk-parallel-item::after {\n",
              "  content: \"\";\n",
              "  width: 100%;\n",
              "  border-bottom: 2px solid var(--sklearn-color-text-on-default-background);\n",
              "  flex-grow: 1;\n",
              "}\n",
              "\n",
              "#sk-container-id-1 div.sk-parallel {\n",
              "  display: flex;\n",
              "  align-items: stretch;\n",
              "  justify-content: center;\n",
              "  background-color: var(--sklearn-color-background);\n",
              "  position: relative;\n",
              "}\n",
              "\n",
              "#sk-container-id-1 div.sk-parallel-item {\n",
              "  display: flex;\n",
              "  flex-direction: column;\n",
              "}\n",
              "\n",
              "#sk-container-id-1 div.sk-parallel-item:first-child::after {\n",
              "  align-self: flex-end;\n",
              "  width: 50%;\n",
              "}\n",
              "\n",
              "#sk-container-id-1 div.sk-parallel-item:last-child::after {\n",
              "  align-self: flex-start;\n",
              "  width: 50%;\n",
              "}\n",
              "\n",
              "#sk-container-id-1 div.sk-parallel-item:only-child::after {\n",
              "  width: 0;\n",
              "}\n",
              "\n",
              "/* Serial-specific style estimator block */\n",
              "\n",
              "#sk-container-id-1 div.sk-serial {\n",
              "  display: flex;\n",
              "  flex-direction: column;\n",
              "  align-items: center;\n",
              "  background-color: var(--sklearn-color-background);\n",
              "  padding-right: 1em;\n",
              "  padding-left: 1em;\n",
              "}\n",
              "\n",
              "\n",
              "/* Toggleable style: style used for estimator/Pipeline/ColumnTransformer box that is\n",
              "clickable and can be expanded/collapsed.\n",
              "- Pipeline and ColumnTransformer use this feature and define the default style\n",
              "- Estimators will overwrite some part of the style using the `sk-estimator` class\n",
              "*/\n",
              "\n",
              "/* Pipeline and ColumnTransformer style (default) */\n",
              "\n",
              "#sk-container-id-1 div.sk-toggleable {\n",
              "  /* Default theme specific background. It is overwritten whether we have a\n",
              "  specific estimator or a Pipeline/ColumnTransformer */\n",
              "  background-color: var(--sklearn-color-background);\n",
              "}\n",
              "\n",
              "/* Toggleable label */\n",
              "#sk-container-id-1 label.sk-toggleable__label {\n",
              "  cursor: pointer;\n",
              "  display: block;\n",
              "  width: 100%;\n",
              "  margin-bottom: 0;\n",
              "  padding: 0.5em;\n",
              "  box-sizing: border-box;\n",
              "  text-align: center;\n",
              "}\n",
              "\n",
              "#sk-container-id-1 label.sk-toggleable__label-arrow:before {\n",
              "  /* Arrow on the left of the label */\n",
              "  content: \"▸\";\n",
              "  float: left;\n",
              "  margin-right: 0.25em;\n",
              "  color: var(--sklearn-color-icon);\n",
              "}\n",
              "\n",
              "#sk-container-id-1 label.sk-toggleable__label-arrow:hover:before {\n",
              "  color: var(--sklearn-color-text);\n",
              "}\n",
              "\n",
              "/* Toggleable content - dropdown */\n",
              "\n",
              "#sk-container-id-1 div.sk-toggleable__content {\n",
              "  max-height: 0;\n",
              "  max-width: 0;\n",
              "  overflow: hidden;\n",
              "  text-align: left;\n",
              "  /* unfitted */\n",
              "  background-color: var(--sklearn-color-unfitted-level-0);\n",
              "}\n",
              "\n",
              "#sk-container-id-1 div.sk-toggleable__content.fitted {\n",
              "  /* fitted */\n",
              "  background-color: var(--sklearn-color-fitted-level-0);\n",
              "}\n",
              "\n",
              "#sk-container-id-1 div.sk-toggleable__content pre {\n",
              "  margin: 0.2em;\n",
              "  border-radius: 0.25em;\n",
              "  color: var(--sklearn-color-text);\n",
              "  /* unfitted */\n",
              "  background-color: var(--sklearn-color-unfitted-level-0);\n",
              "}\n",
              "\n",
              "#sk-container-id-1 div.sk-toggleable__content.fitted pre {\n",
              "  /* unfitted */\n",
              "  background-color: var(--sklearn-color-fitted-level-0);\n",
              "}\n",
              "\n",
              "#sk-container-id-1 input.sk-toggleable__control:checked~div.sk-toggleable__content {\n",
              "  /* Expand drop-down */\n",
              "  max-height: 200px;\n",
              "  max-width: 100%;\n",
              "  overflow: auto;\n",
              "}\n",
              "\n",
              "#sk-container-id-1 input.sk-toggleable__control:checked~label.sk-toggleable__label-arrow:before {\n",
              "  content: \"▾\";\n",
              "}\n",
              "\n",
              "/* Pipeline/ColumnTransformer-specific style */\n",
              "\n",
              "#sk-container-id-1 div.sk-label input.sk-toggleable__control:checked~label.sk-toggleable__label {\n",
              "  color: var(--sklearn-color-text);\n",
              "  background-color: var(--sklearn-color-unfitted-level-2);\n",
              "}\n",
              "\n",
              "#sk-container-id-1 div.sk-label.fitted input.sk-toggleable__control:checked~label.sk-toggleable__label {\n",
              "  background-color: var(--sklearn-color-fitted-level-2);\n",
              "}\n",
              "\n",
              "/* Estimator-specific style */\n",
              "\n",
              "/* Colorize estimator box */\n",
              "#sk-container-id-1 div.sk-estimator input.sk-toggleable__control:checked~label.sk-toggleable__label {\n",
              "  /* unfitted */\n",
              "  background-color: var(--sklearn-color-unfitted-level-2);\n",
              "}\n",
              "\n",
              "#sk-container-id-1 div.sk-estimator.fitted input.sk-toggleable__control:checked~label.sk-toggleable__label {\n",
              "  /* fitted */\n",
              "  background-color: var(--sklearn-color-fitted-level-2);\n",
              "}\n",
              "\n",
              "#sk-container-id-1 div.sk-label label.sk-toggleable__label,\n",
              "#sk-container-id-1 div.sk-label label {\n",
              "  /* The background is the default theme color */\n",
              "  color: var(--sklearn-color-text-on-default-background);\n",
              "}\n",
              "\n",
              "/* On hover, darken the color of the background */\n",
              "#sk-container-id-1 div.sk-label:hover label.sk-toggleable__label {\n",
              "  color: var(--sklearn-color-text);\n",
              "  background-color: var(--sklearn-color-unfitted-level-2);\n",
              "}\n",
              "\n",
              "/* Label box, darken color on hover, fitted */\n",
              "#sk-container-id-1 div.sk-label.fitted:hover label.sk-toggleable__label.fitted {\n",
              "  color: var(--sklearn-color-text);\n",
              "  background-color: var(--sklearn-color-fitted-level-2);\n",
              "}\n",
              "\n",
              "/* Estimator label */\n",
              "\n",
              "#sk-container-id-1 div.sk-label label {\n",
              "  font-family: monospace;\n",
              "  font-weight: bold;\n",
              "  display: inline-block;\n",
              "  line-height: 1.2em;\n",
              "}\n",
              "\n",
              "#sk-container-id-1 div.sk-label-container {\n",
              "  text-align: center;\n",
              "}\n",
              "\n",
              "/* Estimator-specific */\n",
              "#sk-container-id-1 div.sk-estimator {\n",
              "  font-family: monospace;\n",
              "  border: 1px dotted var(--sklearn-color-border-box);\n",
              "  border-radius: 0.25em;\n",
              "  box-sizing: border-box;\n",
              "  margin-bottom: 0.5em;\n",
              "  /* unfitted */\n",
              "  background-color: var(--sklearn-color-unfitted-level-0);\n",
              "}\n",
              "\n",
              "#sk-container-id-1 div.sk-estimator.fitted {\n",
              "  /* fitted */\n",
              "  background-color: var(--sklearn-color-fitted-level-0);\n",
              "}\n",
              "\n",
              "/* on hover */\n",
              "#sk-container-id-1 div.sk-estimator:hover {\n",
              "  /* unfitted */\n",
              "  background-color: var(--sklearn-color-unfitted-level-2);\n",
              "}\n",
              "\n",
              "#sk-container-id-1 div.sk-estimator.fitted:hover {\n",
              "  /* fitted */\n",
              "  background-color: var(--sklearn-color-fitted-level-2);\n",
              "}\n",
              "\n",
              "/* Specification for estimator info (e.g. \"i\" and \"?\") */\n",
              "\n",
              "/* Common style for \"i\" and \"?\" */\n",
              "\n",
              ".sk-estimator-doc-link,\n",
              "a:link.sk-estimator-doc-link,\n",
              "a:visited.sk-estimator-doc-link {\n",
              "  float: right;\n",
              "  font-size: smaller;\n",
              "  line-height: 1em;\n",
              "  font-family: monospace;\n",
              "  background-color: var(--sklearn-color-background);\n",
              "  border-radius: 1em;\n",
              "  height: 1em;\n",
              "  width: 1em;\n",
              "  text-decoration: none !important;\n",
              "  margin-left: 1ex;\n",
              "  /* unfitted */\n",
              "  border: var(--sklearn-color-unfitted-level-1) 1pt solid;\n",
              "  color: var(--sklearn-color-unfitted-level-1);\n",
              "}\n",
              "\n",
              ".sk-estimator-doc-link.fitted,\n",
              "a:link.sk-estimator-doc-link.fitted,\n",
              "a:visited.sk-estimator-doc-link.fitted {\n",
              "  /* fitted */\n",
              "  border: var(--sklearn-color-fitted-level-1) 1pt solid;\n",
              "  color: var(--sklearn-color-fitted-level-1);\n",
              "}\n",
              "\n",
              "/* On hover */\n",
              "div.sk-estimator:hover .sk-estimator-doc-link:hover,\n",
              ".sk-estimator-doc-link:hover,\n",
              "div.sk-label-container:hover .sk-estimator-doc-link:hover,\n",
              ".sk-estimator-doc-link:hover {\n",
              "  /* unfitted */\n",
              "  background-color: var(--sklearn-color-unfitted-level-3);\n",
              "  color: var(--sklearn-color-background);\n",
              "  text-decoration: none;\n",
              "}\n",
              "\n",
              "div.sk-estimator.fitted:hover .sk-estimator-doc-link.fitted:hover,\n",
              ".sk-estimator-doc-link.fitted:hover,\n",
              "div.sk-label-container:hover .sk-estimator-doc-link.fitted:hover,\n",
              ".sk-estimator-doc-link.fitted:hover {\n",
              "  /* fitted */\n",
              "  background-color: var(--sklearn-color-fitted-level-3);\n",
              "  color: var(--sklearn-color-background);\n",
              "  text-decoration: none;\n",
              "}\n",
              "\n",
              "/* Span, style for the box shown on hovering the info icon */\n",
              ".sk-estimator-doc-link span {\n",
              "  display: none;\n",
              "  z-index: 9999;\n",
              "  position: relative;\n",
              "  font-weight: normal;\n",
              "  right: .2ex;\n",
              "  padding: .5ex;\n",
              "  margin: .5ex;\n",
              "  width: min-content;\n",
              "  min-width: 20ex;\n",
              "  max-width: 50ex;\n",
              "  color: var(--sklearn-color-text);\n",
              "  box-shadow: 2pt 2pt 4pt #999;\n",
              "  /* unfitted */\n",
              "  background: var(--sklearn-color-unfitted-level-0);\n",
              "  border: .5pt solid var(--sklearn-color-unfitted-level-3);\n",
              "}\n",
              "\n",
              ".sk-estimator-doc-link.fitted span {\n",
              "  /* fitted */\n",
              "  background: var(--sklearn-color-fitted-level-0);\n",
              "  border: var(--sklearn-color-fitted-level-3);\n",
              "}\n",
              "\n",
              ".sk-estimator-doc-link:hover span {\n",
              "  display: block;\n",
              "}\n",
              "\n",
              "/* \"?\"-specific style due to the `<a>` HTML tag */\n",
              "\n",
              "#sk-container-id-1 a.estimator_doc_link {\n",
              "  float: right;\n",
              "  font-size: 1rem;\n",
              "  line-height: 1em;\n",
              "  font-family: monospace;\n",
              "  background-color: var(--sklearn-color-background);\n",
              "  border-radius: 1rem;\n",
              "  height: 1rem;\n",
              "  width: 1rem;\n",
              "  text-decoration: none;\n",
              "  /* unfitted */\n",
              "  color: var(--sklearn-color-unfitted-level-1);\n",
              "  border: var(--sklearn-color-unfitted-level-1) 1pt solid;\n",
              "}\n",
              "\n",
              "#sk-container-id-1 a.estimator_doc_link.fitted {\n",
              "  /* fitted */\n",
              "  border: var(--sklearn-color-fitted-level-1) 1pt solid;\n",
              "  color: var(--sklearn-color-fitted-level-1);\n",
              "}\n",
              "\n",
              "/* On hover */\n",
              "#sk-container-id-1 a.estimator_doc_link:hover {\n",
              "  /* unfitted */\n",
              "  background-color: var(--sklearn-color-unfitted-level-3);\n",
              "  color: var(--sklearn-color-background);\n",
              "  text-decoration: none;\n",
              "}\n",
              "\n",
              "#sk-container-id-1 a.estimator_doc_link.fitted:hover {\n",
              "  /* fitted */\n",
              "  background-color: var(--sklearn-color-fitted-level-3);\n",
              "}\n",
              "</style><div id=\"sk-container-id-1\" class=\"sk-top-container\"><div class=\"sk-text-repr-fallback\"><pre>RandomForestClassifier(random_state=42)</pre><b>In a Jupyter environment, please rerun this cell to show the HTML representation or trust the notebook. <br />On GitHub, the HTML representation is unable to render, please try loading this page with nbviewer.org.</b></div><div class=\"sk-container\" hidden><div class=\"sk-item\"><div class=\"sk-estimator fitted sk-toggleable\"><input class=\"sk-toggleable__control sk-hidden--visually\" id=\"sk-estimator-id-1\" type=\"checkbox\" checked><label for=\"sk-estimator-id-1\" class=\"sk-toggleable__label fitted sk-toggleable__label-arrow fitted\">&nbsp;&nbsp;RandomForestClassifier<a class=\"sk-estimator-doc-link fitted\" rel=\"noreferrer\" target=\"_blank\" href=\"https://scikit-learn.org/1.5/modules/generated/sklearn.ensemble.RandomForestClassifier.html\">?<span>Documentation for RandomForestClassifier</span></a><span class=\"sk-estimator-doc-link fitted\">i<span>Fitted</span></span></label><div class=\"sk-toggleable__content fitted\"><pre>RandomForestClassifier(random_state=42)</pre></div> </div></div></div></div>"
            ]
          },
          "metadata": {},
          "execution_count": 7
        }
      ]
    },
    {
      "cell_type": "code",
      "source": [
        "# Validate the model\n",
        "y_val_pred = rf_model.predict(X_val)\n",
        "validation_accuracy = accuracy_score(y_val, y_val_pred)\n",
        "print(f\"Validation Accuracy: {validation_accuracy:.4f}\")"
      ],
      "metadata": {
        "colab": {
          "base_uri": "https://localhost:8080/"
        },
        "id": "hIdh-Kk04hXg",
        "outputId": "cb811a50-7e3b-43a5-bac4-5f22ce52e1c9"
      },
      "execution_count": 8,
      "outputs": [
        {
          "output_type": "stream",
          "name": "stdout",
          "text": [
            "Validation Accuracy: 0.8571\n"
          ]
        }
      ]
    },
    {
      "cell_type": "code",
      "source": [
        "# Predict on the test data\n",
        "test_predictions = rf_model.predict(test_data_encoded)"
      ],
      "metadata": {
        "id": "jweuV8Lz4odo"
      },
      "execution_count": 9,
      "outputs": []
    },
    {
      "cell_type": "code",
      "source": [
        "# Format the predictions for submission\n",
        "submission_df = pd.DataFrame({\n",
        "    'id': test_data.index,\n",
        "    'output': test_predictions\n",
        "})"
      ],
      "metadata": {
        "id": "O4IDbUEu4rIF"
      },
      "execution_count": 10,
      "outputs": []
    },
    {
      "cell_type": "code",
      "source": [
        "# Save the predictions to a CSV file\n",
        "submission_df.to_csv('submission.csv', index=False)"
      ],
      "metadata": {
        "id": "IU8qMc1K4t9E"
      },
      "execution_count": 11,
      "outputs": []
    },
    {
      "cell_type": "code",
      "source": [
        "print(\"Predictions saved to submission.csv\")"
      ],
      "metadata": {
        "colab": {
          "base_uri": "https://localhost:8080/"
        },
        "id": "yVEFboIY4wrX",
        "outputId": "eefbc925-5de3-4b07-a4f2-b688a6c8e9f2"
      },
      "execution_count": 12,
      "outputs": [
        {
          "output_type": "stream",
          "name": "stdout",
          "text": [
            "Predictions saved to submission.csv\n"
          ]
        }
      ]
    },
    {
      "cell_type": "markdown",
      "source": [
        "Key Enhancements:\n",
        "* Scaling: The numeric columns are scaled using StandardScaler to help the model handle numeric values more efficiently.\n",
        "* Hyperparameter Tuning: GridSearchCV is used to find the best combination of Random Forest hyperparameters.\n",
        "* Cross-Validation: Instead of using a single validation split, k-fold cross-validation (with cv=5) gives a more robust score."
      ],
      "metadata": {
        "id": "8RbIHstP5yWi"
      }
    },
    {
      "cell_type": "code",
      "source": [
        "import xgboost as xgb\n",
        "from sklearn.model_selection import RandomizedSearchCV\n",
        "from sklearn.pipeline import Pipeline\n",
        "from sklearn.compose import ColumnTransformer\n",
        "from sklearn.preprocessing import OneHotEncoder, StandardScaler\n",
        "import pandas as pd\n",
        "\n",
        "# Load the data\n",
        "train_data = pd.read_csv('train_data.csv')\n",
        "test_data = pd.read_csv('test_data.csv')\n",
        "\n",
        "# Separate features and target\n",
        "X = train_data.drop(columns=['output'])\n",
        "y = train_data['output']\n",
        "\n",
        "# Define categorical and numeric columns\n",
        "categorical_columns = ['subject', 'phase', 'state']\n",
        "numeric_columns = X.select_dtypes(include=['int64', 'float64']).columns\n",
        "\n",
        "# Preprocessing: One-hot encoding for categorical columns, scaling for numeric columns\n",
        "preprocessor = ColumnTransformer([\n",
        "    ('onehot', OneHotEncoder(handle_unknown='ignore'), categorical_columns),\n",
        "    ('scaler', StandardScaler(), numeric_columns)\n",
        "])\n",
        "\n",
        "# Define XGBoost model with GPU support\n",
        "xgb_model = xgb.XGBClassifier(tree_method='gpu_hist', use_label_encoder=False, eval_metric='logloss')\n",
        "\n",
        "# Define a pipeline: preprocessing followed by XGBoost\n",
        "pipeline = Pipeline([\n",
        "    ('preprocessor', preprocessor),\n",
        "    ('classifier', xgb_model)\n",
        "])\n",
        "\n",
        "# Randomized Search Parameters\n",
        "param_distributions = {\n",
        "    'classifier__n_estimators': [100, 200],\n",
        "    'classifier__max_depth': [3, 6, 9],\n",
        "    'classifier__learning_rate': [0.01, 0.1, 0.2]\n",
        "}\n",
        "\n",
        "# RandomizedSearchCV with parallelization and GPU-accelerated XGBoost\n",
        "random_search = RandomizedSearchCV(\n",
        "    pipeline, param_distributions, n_iter=10, scoring='accuracy', cv=5, random_state=42, n_jobs=-1\n",
        ")\n",
        "\n",
        "# Fit the model\n",
        "random_search.fit(X, y)\n",
        "\n",
        "# Best parameters and score\n",
        "print(f\"Best Parameters: {random_search.best_params_}\")\n",
        "print(f\"Best Cross-validation Score: {random_search.best_score_:.4f}\")\n",
        "\n",
        "# Predict on the test data\n",
        "test_data_encoded = random_search.best_estimator_.named_steps['preprocessor'].transform(test_data)\n",
        "test_predictions = random_search.best_estimator_.named_steps['classifier'].predict(test_data_encoded)\n",
        "\n",
        "# Format the predictions for submission\n",
        "submission_df = pd.DataFrame({\n",
        "    'id': test_data.index,\n",
        "    'output': test_predictions\n",
        "})\n",
        "\n",
        "# Save the predictions to a CSV file\n",
        "submission_df.to_csv('submission_gpu.csv', index=False)\n",
        "\n",
        "print(\"Predictions saved to submission_gpu.csv\")\n"
      ],
      "metadata": {
        "colab": {
          "base_uri": "https://localhost:8080/"
        },
        "id": "pDc7aFTf8Zyj",
        "outputId": "e141e3a5-53b9-4d84-a682-bf4753b7aea5"
      },
      "execution_count": 1,
      "outputs": [
        {
          "output_type": "stream",
          "name": "stderr",
          "text": [
            "/usr/local/lib/python3.10/dist-packages/xgboost/core.py:158: UserWarning: [18:04:55] WARNING: /workspace/src/common/error_msg.cc:27: The tree method `gpu_hist` is deprecated since 2.0.0. To use GPU training, set the `device` parameter to CUDA instead.\n",
            "\n",
            "    E.g. tree_method = \"hist\", device = \"cuda\"\n",
            "\n",
            "  warnings.warn(smsg, UserWarning)\n",
            "/usr/local/lib/python3.10/dist-packages/xgboost/core.py:158: UserWarning: [18:04:55] WARNING: /workspace/src/learner.cc:740: \n",
            "Parameters: { \"use_label_encoder\" } are not used.\n",
            "\n",
            "  warnings.warn(smsg, UserWarning)\n"
          ]
        },
        {
          "output_type": "stream",
          "name": "stdout",
          "text": [
            "Best Parameters: {'classifier__n_estimators': 200, 'classifier__max_depth': 9, 'classifier__learning_rate': 0.1}\n",
            "Best Cross-validation Score: 0.8656\n",
            "Predictions saved to submission_gpu.csv\n"
          ]
        },
        {
          "output_type": "stream",
          "name": "stderr",
          "text": [
            "/usr/local/lib/python3.10/dist-packages/xgboost/core.py:158: UserWarning: [18:04:58] WARNING: /workspace/src/common/error_msg.cc:27: The tree method `gpu_hist` is deprecated since 2.0.0. To use GPU training, set the `device` parameter to CUDA instead.\n",
            "\n",
            "    E.g. tree_method = \"hist\", device = \"cuda\"\n",
            "\n",
            "  warnings.warn(smsg, UserWarning)\n",
            "/usr/local/lib/python3.10/dist-packages/xgboost/core.py:158: UserWarning: [18:04:58] WARNING: /workspace/src/common/error_msg.cc:58: Falling back to prediction using DMatrix due to mismatched devices. This might lead to higher memory usage and slower performance. XGBoost is running on: cuda:0, while the input data is on: cpu.\n",
            "Potential solutions:\n",
            "- Use a data structure that matches the device ordinal in the booster.\n",
            "- Set the device for booster before call to inplace_predict.\n",
            "\n",
            "This warning will only be shown once.\n",
            "\n",
            "  warnings.warn(smsg, UserWarning)\n"
          ]
        }
      ]
    },
    {
      "cell_type": "code",
      "source": [
        "pip install optuna"
      ],
      "metadata": {
        "colab": {
          "base_uri": "https://localhost:8080/"
        },
        "id": "F3s8p0ah97xv",
        "outputId": "917df52c-93b9-4214-e91a-5d2af236178f"
      },
      "execution_count": 2,
      "outputs": [
        {
          "output_type": "stream",
          "name": "stdout",
          "text": [
            "Collecting optuna\n",
            "  Downloading optuna-4.0.0-py3-none-any.whl.metadata (16 kB)\n",
            "Collecting alembic>=1.5.0 (from optuna)\n",
            "  Downloading alembic-1.13.3-py3-none-any.whl.metadata (7.4 kB)\n",
            "Collecting colorlog (from optuna)\n",
            "  Downloading colorlog-6.8.2-py3-none-any.whl.metadata (10 kB)\n",
            "Requirement already satisfied: numpy in /usr/local/lib/python3.10/dist-packages (from optuna) (1.26.4)\n",
            "Requirement already satisfied: packaging>=20.0 in /usr/local/lib/python3.10/dist-packages (from optuna) (24.1)\n",
            "Requirement already satisfied: sqlalchemy>=1.3.0 in /usr/local/lib/python3.10/dist-packages (from optuna) (2.0.36)\n",
            "Requirement already satisfied: tqdm in /usr/local/lib/python3.10/dist-packages (from optuna) (4.66.5)\n",
            "Requirement already satisfied: PyYAML in /usr/local/lib/python3.10/dist-packages (from optuna) (6.0.2)\n",
            "Collecting Mako (from alembic>=1.5.0->optuna)\n",
            "  Downloading Mako-1.3.5-py3-none-any.whl.metadata (2.9 kB)\n",
            "Requirement already satisfied: typing-extensions>=4 in /usr/local/lib/python3.10/dist-packages (from alembic>=1.5.0->optuna) (4.12.2)\n",
            "Requirement already satisfied: greenlet!=0.4.17 in /usr/local/lib/python3.10/dist-packages (from sqlalchemy>=1.3.0->optuna) (3.1.1)\n",
            "Requirement already satisfied: MarkupSafe>=0.9.2 in /usr/local/lib/python3.10/dist-packages (from Mako->alembic>=1.5.0->optuna) (3.0.1)\n",
            "Downloading optuna-4.0.0-py3-none-any.whl (362 kB)\n",
            "\u001b[2K   \u001b[90m━━━━━━━━━━━━━━━━━━━━━━━━━━━━━━━━━━━━━━━━\u001b[0m \u001b[32m362.8/362.8 kB\u001b[0m \u001b[31m7.6 MB/s\u001b[0m eta \u001b[36m0:00:00\u001b[0m\n",
            "\u001b[?25hDownloading alembic-1.13.3-py3-none-any.whl (233 kB)\n",
            "\u001b[2K   \u001b[90m━━━━━━━━━━━━━━━━━━━━━━━━━━━━━━━━━━━━━━━━\u001b[0m \u001b[32m233.2/233.2 kB\u001b[0m \u001b[31m20.9 MB/s\u001b[0m eta \u001b[36m0:00:00\u001b[0m\n",
            "\u001b[?25hDownloading colorlog-6.8.2-py3-none-any.whl (11 kB)\n",
            "Downloading Mako-1.3.5-py3-none-any.whl (78 kB)\n",
            "\u001b[2K   \u001b[90m━━━━━━━━━━━━━━━━━━━━━━━━━━━━━━━━━━━━━━━━\u001b[0m \u001b[32m78.6/78.6 kB\u001b[0m \u001b[31m7.4 MB/s\u001b[0m eta \u001b[36m0:00:00\u001b[0m\n",
            "\u001b[?25hInstalling collected packages: Mako, colorlog, alembic, optuna\n",
            "Successfully installed Mako-1.3.5 alembic-1.13.3 colorlog-6.8.2 optuna-4.0.0\n"
          ]
        }
      ]
    },
    {
      "cell_type": "code",
      "source": [
        "import optuna\n",
        "import xgboost as xgb\n",
        "from sklearn.compose import ColumnTransformer\n",
        "from sklearn.preprocessing import OneHotEncoder, StandardScaler\n",
        "from sklearn.pipeline import Pipeline\n",
        "from sklearn.model_selection import train_test_split\n",
        "import pandas as pd\n",
        "\n",
        "# Load the data\n",
        "train_data = pd.read_csv('train_data.csv')\n",
        "test_data = pd.read_csv('test_data.csv')\n",
        "\n",
        "# Separate features and target\n",
        "X = train_data.drop(columns=['output'])\n",
        "y = train_data['output']\n",
        "\n",
        "# Split data for validation\n",
        "X_train, X_valid, y_train, y_valid = train_test_split(X, y, test_size=0.2, random_state=42)\n",
        "\n",
        "# Define categorical and numeric columns\n",
        "categorical_columns = ['subject', 'phase', 'state']\n",
        "numeric_columns = X.select_dtypes(include=['int64', 'float64']).columns\n",
        "\n",
        "# Preprocessing: One-hot encoding for categorical columns, scaling for numeric columns\n",
        "preprocessor = ColumnTransformer([\n",
        "    ('onehot', OneHotEncoder(handle_unknown='ignore'), categorical_columns),\n",
        "    ('scaler', StandardScaler(), numeric_columns)\n",
        "])\n",
        "\n",
        "X_train = preprocessor.fit_transform(X_train)\n",
        "X_valid = preprocessor.transform(X_valid)\n",
        "\n",
        "# Define the objective function for Optuna\n",
        "def objective(trial):\n",
        "    param = {\n",
        "        'tree_method': 'hist',  # Faster on GPU\n",
        "        'device': 'cuda',  # GPU support\n",
        "        'n_estimators': trial.suggest_int('n_estimators', 100, 1000),\n",
        "        'max_depth': trial.suggest_int('max_depth', 3, 15),\n",
        "        'learning_rate': trial.suggest_loguniform('learning_rate', 0.01, 0.3),\n",
        "        'subsample': trial.suggest_float('subsample', 0.5, 1.0),\n",
        "        'colsample_bytree': trial.suggest_float('colsample_bytree', 0.5, 1.0),\n",
        "        'lambda': trial.suggest_loguniform('lambda', 1e-3, 10.0),\n",
        "        'alpha': trial.suggest_loguniform('alpha', 1e-3, 10.0)\n",
        "    }\n",
        "\n",
        "    # Train XGBoost model\n",
        "    model = xgb.XGBClassifier(**param)\n",
        "    model.fit(X_train, y_train)\n",
        "\n",
        "    # Validate the model\n",
        "    score = model.score(X_valid, y_valid)\n",
        "    return score\n",
        "\n",
        "# Create a study and optimize\n",
        "study = optuna.create_study(direction='maximize')\n",
        "study.optimize(objective, n_trials=50)\n",
        "\n",
        "# Best hyperparameters\n",
        "print(\"Best Hyperparameters:\", study.best_params)\n",
        "\n",
        "# Train on full data using best hyperparameters\n",
        "best_model = xgb.XGBClassifier(**study.best_params)\n",
        "best_model.fit(X_train, y_train)\n",
        "\n",
        "# Predict on the test data\n",
        "test_data_encoded = preprocessor.transform(test_data)\n",
        "test_predictions = best_model.predict(test_data_encoded)\n",
        "\n",
        "# Format the predictions for submission\n",
        "submission_df = pd.DataFrame({\n",
        "    'id': test_data.index,\n",
        "    'output': test_predictions\n",
        "})\n",
        "\n",
        "# Save the predictions to a CSV file\n",
        "submission_df.to_csv('submission_optuna.csv', index=False)\n",
        "\n",
        "print(\"Predictions saved to submission_optuna.csv\")"
      ],
      "metadata": {
        "colab": {
          "base_uri": "https://localhost:8080/"
        },
        "id": "QubAo70_9_Fr",
        "outputId": "79e30902-53ba-4bef-d957-679b4159233f"
      },
      "execution_count": 3,
      "outputs": [
        {
          "output_type": "stream",
          "name": "stderr",
          "text": [
            "[I 2024-10-19 18:09:19,371] A new study created in memory with name: no-name-0cd94eea-f786-44ac-b931-ca998f26d2ef\n",
            "<ipython-input-3-aa0f503babcb>:40: FutureWarning: suggest_loguniform has been deprecated in v3.0.0. This feature will be removed in v6.0.0. See https://github.com/optuna/optuna/releases/tag/v3.0.0. Use suggest_float(..., log=True) instead.\n",
            "  'learning_rate': trial.suggest_loguniform('learning_rate', 0.01, 0.3),\n",
            "<ipython-input-3-aa0f503babcb>:43: FutureWarning: suggest_loguniform has been deprecated in v3.0.0. This feature will be removed in v6.0.0. See https://github.com/optuna/optuna/releases/tag/v3.0.0. Use suggest_float(..., log=True) instead.\n",
            "  'lambda': trial.suggest_loguniform('lambda', 1e-3, 10.0),\n",
            "<ipython-input-3-aa0f503babcb>:44: FutureWarning: suggest_loguniform has been deprecated in v3.0.0. This feature will be removed in v6.0.0. See https://github.com/optuna/optuna/releases/tag/v3.0.0. Use suggest_float(..., log=True) instead.\n",
            "  'alpha': trial.suggest_loguniform('alpha', 1e-3, 10.0)\n",
            "[I 2024-10-19 18:09:26,699] Trial 0 finished with value: 0.8538713195201745 and parameters: {'n_estimators': 545, 'max_depth': 10, 'learning_rate': 0.05999025028123221, 'subsample': 0.6527704946107059, 'colsample_bytree': 0.5053480249649472, 'lambda': 0.03958551551372708, 'alpha': 0.7714255394145872}. Best is trial 0 with value: 0.8538713195201745.\n",
            "<ipython-input-3-aa0f503babcb>:40: FutureWarning: suggest_loguniform has been deprecated in v3.0.0. This feature will be removed in v6.0.0. See https://github.com/optuna/optuna/releases/tag/v3.0.0. Use suggest_float(..., log=True) instead.\n",
            "  'learning_rate': trial.suggest_loguniform('learning_rate', 0.01, 0.3),\n",
            "<ipython-input-3-aa0f503babcb>:43: FutureWarning: suggest_loguniform has been deprecated in v3.0.0. This feature will be removed in v6.0.0. See https://github.com/optuna/optuna/releases/tag/v3.0.0. Use suggest_float(..., log=True) instead.\n",
            "  'lambda': trial.suggest_loguniform('lambda', 1e-3, 10.0),\n",
            "<ipython-input-3-aa0f503babcb>:44: FutureWarning: suggest_loguniform has been deprecated in v3.0.0. This feature will be removed in v6.0.0. See https://github.com/optuna/optuna/releases/tag/v3.0.0. Use suggest_float(..., log=True) instead.\n",
            "  'alpha': trial.suggest_loguniform('alpha', 1e-3, 10.0)\n",
            "[I 2024-10-19 18:09:34,647] Trial 1 finished with value: 0.8636859323882224 and parameters: {'n_estimators': 271, 'max_depth': 15, 'learning_rate': 0.023625552345569702, 'subsample': 0.8253577293301073, 'colsample_bytree': 0.7528267475965027, 'lambda': 0.017803919394525206, 'alpha': 0.38091483831562334}. Best is trial 1 with value: 0.8636859323882224.\n",
            "<ipython-input-3-aa0f503babcb>:40: FutureWarning: suggest_loguniform has been deprecated in v3.0.0. This feature will be removed in v6.0.0. See https://github.com/optuna/optuna/releases/tag/v3.0.0. Use suggest_float(..., log=True) instead.\n",
            "  'learning_rate': trial.suggest_loguniform('learning_rate', 0.01, 0.3),\n",
            "<ipython-input-3-aa0f503babcb>:43: FutureWarning: suggest_loguniform has been deprecated in v3.0.0. This feature will be removed in v6.0.0. See https://github.com/optuna/optuna/releases/tag/v3.0.0. Use suggest_float(..., log=True) instead.\n",
            "  'lambda': trial.suggest_loguniform('lambda', 1e-3, 10.0),\n",
            "<ipython-input-3-aa0f503babcb>:44: FutureWarning: suggest_loguniform has been deprecated in v3.0.0. This feature will be removed in v6.0.0. See https://github.com/optuna/optuna/releases/tag/v3.0.0. Use suggest_float(..., log=True) instead.\n",
            "  'alpha': trial.suggest_loguniform('alpha', 1e-3, 10.0)\n",
            "[I 2024-10-19 18:09:38,233] Trial 2 finished with value: 0.8516902944383861 and parameters: {'n_estimators': 367, 'max_depth': 8, 'learning_rate': 0.043696190401666946, 'subsample': 0.6060276124887045, 'colsample_bytree': 0.5590411835449808, 'lambda': 0.24211057685675863, 'alpha': 9.126224807533422}. Best is trial 1 with value: 0.8636859323882224.\n",
            "<ipython-input-3-aa0f503babcb>:40: FutureWarning: suggest_loguniform has been deprecated in v3.0.0. This feature will be removed in v6.0.0. See https://github.com/optuna/optuna/releases/tag/v3.0.0. Use suggest_float(..., log=True) instead.\n",
            "  'learning_rate': trial.suggest_loguniform('learning_rate', 0.01, 0.3),\n",
            "<ipython-input-3-aa0f503babcb>:43: FutureWarning: suggest_loguniform has been deprecated in v3.0.0. This feature will be removed in v6.0.0. See https://github.com/optuna/optuna/releases/tag/v3.0.0. Use suggest_float(..., log=True) instead.\n",
            "  'lambda': trial.suggest_loguniform('lambda', 1e-3, 10.0),\n",
            "<ipython-input-3-aa0f503babcb>:44: FutureWarning: suggest_loguniform has been deprecated in v3.0.0. This feature will be removed in v6.0.0. See https://github.com/optuna/optuna/releases/tag/v3.0.0. Use suggest_float(..., log=True) instead.\n",
            "  'alpha': trial.suggest_loguniform('alpha', 1e-3, 10.0)\n",
            "[I 2024-10-19 18:09:43,871] Trial 3 finished with value: 0.8582333696837514 and parameters: {'n_estimators': 320, 'max_depth': 13, 'learning_rate': 0.03787029086245789, 'subsample': 0.5053595955106628, 'colsample_bytree': 0.6836973069170689, 'lambda': 0.004160923446862892, 'alpha': 0.006949410863310833}. Best is trial 1 with value: 0.8636859323882224.\n",
            "<ipython-input-3-aa0f503babcb>:40: FutureWarning: suggest_loguniform has been deprecated in v3.0.0. This feature will be removed in v6.0.0. See https://github.com/optuna/optuna/releases/tag/v3.0.0. Use suggest_float(..., log=True) instead.\n",
            "  'learning_rate': trial.suggest_loguniform('learning_rate', 0.01, 0.3),\n",
            "<ipython-input-3-aa0f503babcb>:43: FutureWarning: suggest_loguniform has been deprecated in v3.0.0. This feature will be removed in v6.0.0. See https://github.com/optuna/optuna/releases/tag/v3.0.0. Use suggest_float(..., log=True) instead.\n",
            "  'lambda': trial.suggest_loguniform('lambda', 1e-3, 10.0),\n",
            "<ipython-input-3-aa0f503babcb>:44: FutureWarning: suggest_loguniform has been deprecated in v3.0.0. This feature will be removed in v6.0.0. See https://github.com/optuna/optuna/releases/tag/v3.0.0. Use suggest_float(..., log=True) instead.\n",
            "  'alpha': trial.suggest_loguniform('alpha', 1e-3, 10.0)\n",
            "[I 2024-10-19 18:09:46,310] Trial 4 finished with value: 0.8527808069792803 and parameters: {'n_estimators': 196, 'max_depth': 14, 'learning_rate': 0.29453795005463573, 'subsample': 0.5744839996547314, 'colsample_bytree': 0.5647481872575858, 'lambda': 5.41221975579931, 'alpha': 0.46309773330881115}. Best is trial 1 with value: 0.8636859323882224.\n",
            "<ipython-input-3-aa0f503babcb>:40: FutureWarning: suggest_loguniform has been deprecated in v3.0.0. This feature will be removed in v6.0.0. See https://github.com/optuna/optuna/releases/tag/v3.0.0. Use suggest_float(..., log=True) instead.\n",
            "  'learning_rate': trial.suggest_loguniform('learning_rate', 0.01, 0.3),\n",
            "<ipython-input-3-aa0f503babcb>:43: FutureWarning: suggest_loguniform has been deprecated in v3.0.0. This feature will be removed in v6.0.0. See https://github.com/optuna/optuna/releases/tag/v3.0.0. Use suggest_float(..., log=True) instead.\n",
            "  'lambda': trial.suggest_loguniform('lambda', 1e-3, 10.0),\n",
            "<ipython-input-3-aa0f503babcb>:44: FutureWarning: suggest_loguniform has been deprecated in v3.0.0. This feature will be removed in v6.0.0. See https://github.com/optuna/optuna/releases/tag/v3.0.0. Use suggest_float(..., log=True) instead.\n",
            "  'alpha': trial.suggest_loguniform('alpha', 1e-3, 10.0)\n",
            "[I 2024-10-19 18:09:50,285] Trial 5 finished with value: 0.8527808069792803 and parameters: {'n_estimators': 145, 'max_depth': 14, 'learning_rate': 0.07718071477487272, 'subsample': 0.7385235187143985, 'colsample_bytree': 0.9031643792428532, 'lambda': 5.182193567357808, 'alpha': 0.010192830923533217}. Best is trial 1 with value: 0.8636859323882224.\n",
            "<ipython-input-3-aa0f503babcb>:40: FutureWarning: suggest_loguniform has been deprecated in v3.0.0. This feature will be removed in v6.0.0. See https://github.com/optuna/optuna/releases/tag/v3.0.0. Use suggest_float(..., log=True) instead.\n",
            "  'learning_rate': trial.suggest_loguniform('learning_rate', 0.01, 0.3),\n",
            "<ipython-input-3-aa0f503babcb>:43: FutureWarning: suggest_loguniform has been deprecated in v3.0.0. This feature will be removed in v6.0.0. See https://github.com/optuna/optuna/releases/tag/v3.0.0. Use suggest_float(..., log=True) instead.\n",
            "  'lambda': trial.suggest_loguniform('lambda', 1e-3, 10.0),\n",
            "<ipython-input-3-aa0f503babcb>:44: FutureWarning: suggest_loguniform has been deprecated in v3.0.0. This feature will be removed in v6.0.0. See https://github.com/optuna/optuna/releases/tag/v3.0.0. Use suggest_float(..., log=True) instead.\n",
            "  'alpha': trial.suggest_loguniform('alpha', 1e-3, 10.0)\n",
            "[I 2024-10-19 18:09:54,082] Trial 6 finished with value: 0.8636859323882224 and parameters: {'n_estimators': 524, 'max_depth': 11, 'learning_rate': 0.2500670842957004, 'subsample': 0.9070574572974242, 'colsample_bytree': 0.6509900185942474, 'lambda': 0.2503987379332224, 'alpha': 0.029004050749728675}. Best is trial 1 with value: 0.8636859323882224.\n",
            "<ipython-input-3-aa0f503babcb>:40: FutureWarning: suggest_loguniform has been deprecated in v3.0.0. This feature will be removed in v6.0.0. See https://github.com/optuna/optuna/releases/tag/v3.0.0. Use suggest_float(..., log=True) instead.\n",
            "  'learning_rate': trial.suggest_loguniform('learning_rate', 0.01, 0.3),\n",
            "<ipython-input-3-aa0f503babcb>:43: FutureWarning: suggest_loguniform has been deprecated in v3.0.0. This feature will be removed in v6.0.0. See https://github.com/optuna/optuna/releases/tag/v3.0.0. Use suggest_float(..., log=True) instead.\n",
            "  'lambda': trial.suggest_loguniform('lambda', 1e-3, 10.0),\n",
            "<ipython-input-3-aa0f503babcb>:44: FutureWarning: suggest_loguniform has been deprecated in v3.0.0. This feature will be removed in v6.0.0. See https://github.com/optuna/optuna/releases/tag/v3.0.0. Use suggest_float(..., log=True) instead.\n",
            "  'alpha': trial.suggest_loguniform('alpha', 1e-3, 10.0)\n",
            "[I 2024-10-19 18:10:00,801] Trial 7 finished with value: 0.8636859323882224 and parameters: {'n_estimators': 670, 'max_depth': 8, 'learning_rate': 0.08225714848924193, 'subsample': 0.8512591690370135, 'colsample_bytree': 0.8423739729328068, 'lambda': 0.025107908003056005, 'alpha': 1.0246583135211853}. Best is trial 1 with value: 0.8636859323882224.\n",
            "<ipython-input-3-aa0f503babcb>:40: FutureWarning: suggest_loguniform has been deprecated in v3.0.0. This feature will be removed in v6.0.0. See https://github.com/optuna/optuna/releases/tag/v3.0.0. Use suggest_float(..., log=True) instead.\n",
            "  'learning_rate': trial.suggest_loguniform('learning_rate', 0.01, 0.3),\n",
            "<ipython-input-3-aa0f503babcb>:43: FutureWarning: suggest_loguniform has been deprecated in v3.0.0. This feature will be removed in v6.0.0. See https://github.com/optuna/optuna/releases/tag/v3.0.0. Use suggest_float(..., log=True) instead.\n",
            "  'lambda': trial.suggest_loguniform('lambda', 1e-3, 10.0),\n",
            "<ipython-input-3-aa0f503babcb>:44: FutureWarning: suggest_loguniform has been deprecated in v3.0.0. This feature will be removed in v6.0.0. See https://github.com/optuna/optuna/releases/tag/v3.0.0. Use suggest_float(..., log=True) instead.\n",
            "  'alpha': trial.suggest_loguniform('alpha', 1e-3, 10.0)\n",
            "[I 2024-10-19 18:10:03,421] Trial 8 finished with value: 0.871319520174482 and parameters: {'n_estimators': 148, 'max_depth': 9, 'learning_rate': 0.02646951866292583, 'subsample': 0.9787557606470543, 'colsample_bytree': 0.6081100130296041, 'lambda': 0.036991321518017616, 'alpha': 0.03790561304646741}. Best is trial 8 with value: 0.871319520174482.\n",
            "<ipython-input-3-aa0f503babcb>:40: FutureWarning: suggest_loguniform has been deprecated in v3.0.0. This feature will be removed in v6.0.0. See https://github.com/optuna/optuna/releases/tag/v3.0.0. Use suggest_float(..., log=True) instead.\n",
            "  'learning_rate': trial.suggest_loguniform('learning_rate', 0.01, 0.3),\n",
            "<ipython-input-3-aa0f503babcb>:43: FutureWarning: suggest_loguniform has been deprecated in v3.0.0. This feature will be removed in v6.0.0. See https://github.com/optuna/optuna/releases/tag/v3.0.0. Use suggest_float(..., log=True) instead.\n",
            "  'lambda': trial.suggest_loguniform('lambda', 1e-3, 10.0),\n",
            "<ipython-input-3-aa0f503babcb>:44: FutureWarning: suggest_loguniform has been deprecated in v3.0.0. This feature will be removed in v6.0.0. See https://github.com/optuna/optuna/releases/tag/v3.0.0. Use suggest_float(..., log=True) instead.\n",
            "  'alpha': trial.suggest_loguniform('alpha', 1e-3, 10.0)\n",
            "[I 2024-10-19 18:10:06,956] Trial 9 finished with value: 0.8604143947655398 and parameters: {'n_estimators': 835, 'max_depth': 4, 'learning_rate': 0.012367854128513659, 'subsample': 0.9450271991898813, 'colsample_bytree': 0.8807529579090231, 'lambda': 0.03484334741053398, 'alpha': 0.00112874977780339}. Best is trial 8 with value: 0.871319520174482.\n",
            "<ipython-input-3-aa0f503babcb>:40: FutureWarning: suggest_loguniform has been deprecated in v3.0.0. This feature will be removed in v6.0.0. See https://github.com/optuna/optuna/releases/tag/v3.0.0. Use suggest_float(..., log=True) instead.\n",
            "  'learning_rate': trial.suggest_loguniform('learning_rate', 0.01, 0.3),\n",
            "<ipython-input-3-aa0f503babcb>:43: FutureWarning: suggest_loguniform has been deprecated in v3.0.0. This feature will be removed in v6.0.0. See https://github.com/optuna/optuna/releases/tag/v3.0.0. Use suggest_float(..., log=True) instead.\n",
            "  'lambda': trial.suggest_loguniform('lambda', 1e-3, 10.0),\n",
            "<ipython-input-3-aa0f503babcb>:44: FutureWarning: suggest_loguniform has been deprecated in v3.0.0. This feature will be removed in v6.0.0. See https://github.com/optuna/optuna/releases/tag/v3.0.0. Use suggest_float(..., log=True) instead.\n",
            "  'alpha': trial.suggest_loguniform('alpha', 1e-3, 10.0)\n",
            "[I 2024-10-19 18:10:12,533] Trial 10 finished with value: 0.8636859323882224 and parameters: {'n_estimators': 988, 'max_depth': 5, 'learning_rate': 0.010455558506919403, 'subsample': 0.9808607396995686, 'colsample_bytree': 0.7708559736389529, 'lambda': 0.0028786860637336938, 'alpha': 0.08374425284289574}. Best is trial 8 with value: 0.871319520174482.\n",
            "<ipython-input-3-aa0f503babcb>:40: FutureWarning: suggest_loguniform has been deprecated in v3.0.0. This feature will be removed in v6.0.0. See https://github.com/optuna/optuna/releases/tag/v3.0.0. Use suggest_float(..., log=True) instead.\n",
            "  'learning_rate': trial.suggest_loguniform('learning_rate', 0.01, 0.3),\n",
            "<ipython-input-3-aa0f503babcb>:43: FutureWarning: suggest_loguniform has been deprecated in v3.0.0. This feature will be removed in v6.0.0. See https://github.com/optuna/optuna/releases/tag/v3.0.0. Use suggest_float(..., log=True) instead.\n",
            "  'lambda': trial.suggest_loguniform('lambda', 1e-3, 10.0),\n",
            "<ipython-input-3-aa0f503babcb>:44: FutureWarning: suggest_loguniform has been deprecated in v3.0.0. This feature will be removed in v6.0.0. See https://github.com/optuna/optuna/releases/tag/v3.0.0. Use suggest_float(..., log=True) instead.\n",
            "  'alpha': trial.suggest_loguniform('alpha', 1e-3, 10.0)\n",
            "[I 2024-10-19 18:10:13,647] Trial 11 finished with value: 0.8658669574700109 and parameters: {'n_estimators': 103, 'max_depth': 6, 'learning_rate': 0.021664816981472518, 'subsample': 0.8131497613132908, 'colsample_bytree': 0.7514422578036756, 'lambda': 0.009250343868409557, 'alpha': 0.16860086183381406}. Best is trial 8 with value: 0.871319520174482.\n",
            "<ipython-input-3-aa0f503babcb>:40: FutureWarning: suggest_loguniform has been deprecated in v3.0.0. This feature will be removed in v6.0.0. See https://github.com/optuna/optuna/releases/tag/v3.0.0. Use suggest_float(..., log=True) instead.\n",
            "  'learning_rate': trial.suggest_loguniform('learning_rate', 0.01, 0.3),\n",
            "<ipython-input-3-aa0f503babcb>:43: FutureWarning: suggest_loguniform has been deprecated in v3.0.0. This feature will be removed in v6.0.0. See https://github.com/optuna/optuna/releases/tag/v3.0.0. Use suggest_float(..., log=True) instead.\n",
            "  'lambda': trial.suggest_loguniform('lambda', 1e-3, 10.0),\n",
            "<ipython-input-3-aa0f503babcb>:44: FutureWarning: suggest_loguniform has been deprecated in v3.0.0. This feature will be removed in v6.0.0. See https://github.com/optuna/optuna/releases/tag/v3.0.0. Use suggest_float(..., log=True) instead.\n",
            "  'alpha': trial.suggest_loguniform('alpha', 1e-3, 10.0)\n",
            "[I 2024-10-19 18:10:14,971] Trial 12 finished with value: 0.8604143947655398 and parameters: {'n_estimators': 110, 'max_depth': 6, 'learning_rate': 0.01726253131859432, 'subsample': 0.7484576106731721, 'colsample_bytree': 0.9723664436547788, 'lambda': 0.0010205315586162974, 'alpha': 0.09129732280375309}. Best is trial 8 with value: 0.871319520174482.\n",
            "<ipython-input-3-aa0f503babcb>:40: FutureWarning: suggest_loguniform has been deprecated in v3.0.0. This feature will be removed in v6.0.0. See https://github.com/optuna/optuna/releases/tag/v3.0.0. Use suggest_float(..., log=True) instead.\n",
            "  'learning_rate': trial.suggest_loguniform('learning_rate', 0.01, 0.3),\n",
            "<ipython-input-3-aa0f503babcb>:43: FutureWarning: suggest_loguniform has been deprecated in v3.0.0. This feature will be removed in v6.0.0. See https://github.com/optuna/optuna/releases/tag/v3.0.0. Use suggest_float(..., log=True) instead.\n",
            "  'lambda': trial.suggest_loguniform('lambda', 1e-3, 10.0),\n",
            "<ipython-input-3-aa0f503babcb>:44: FutureWarning: suggest_loguniform has been deprecated in v3.0.0. This feature will be removed in v6.0.0. See https://github.com/optuna/optuna/releases/tag/v3.0.0. Use suggest_float(..., log=True) instead.\n",
            "  'alpha': trial.suggest_loguniform('alpha', 1e-3, 10.0)\n",
            "[I 2024-10-19 18:10:19,554] Trial 13 finished with value: 0.8593238822246456 and parameters: {'n_estimators': 445, 'max_depth': 7, 'learning_rate': 0.028024064921806875, 'subsample': 0.8424330030749116, 'colsample_bytree': 0.6654251707958123, 'lambda': 0.1545754579953581, 'alpha': 0.022595359332771795}. Best is trial 8 with value: 0.871319520174482.\n",
            "<ipython-input-3-aa0f503babcb>:40: FutureWarning: suggest_loguniform has been deprecated in v3.0.0. This feature will be removed in v6.0.0. See https://github.com/optuna/optuna/releases/tag/v3.0.0. Use suggest_float(..., log=True) instead.\n",
            "  'learning_rate': trial.suggest_loguniform('learning_rate', 0.01, 0.3),\n",
            "<ipython-input-3-aa0f503babcb>:43: FutureWarning: suggest_loguniform has been deprecated in v3.0.0. This feature will be removed in v6.0.0. See https://github.com/optuna/optuna/releases/tag/v3.0.0. Use suggest_float(..., log=True) instead.\n",
            "  'lambda': trial.suggest_loguniform('lambda', 1e-3, 10.0),\n",
            "<ipython-input-3-aa0f503babcb>:44: FutureWarning: suggest_loguniform has been deprecated in v3.0.0. This feature will be removed in v6.0.0. See https://github.com/optuna/optuna/releases/tag/v3.0.0. Use suggest_float(..., log=True) instead.\n",
            "  'alpha': trial.suggest_loguniform('alpha', 1e-3, 10.0)\n",
            "[I 2024-10-19 18:10:20,364] Trial 14 finished with value: 0.8516902944383861 and parameters: {'n_estimators': 102, 'max_depth': 3, 'learning_rate': 0.019061866863759352, 'subsample': 0.9984712096696362, 'colsample_bytree': 0.7998094809698356, 'lambda': 0.007379040905915794, 'alpha': 0.003046477524875092}. Best is trial 8 with value: 0.871319520174482.\n",
            "<ipython-input-3-aa0f503babcb>:40: FutureWarning: suggest_loguniform has been deprecated in v3.0.0. This feature will be removed in v6.0.0. See https://github.com/optuna/optuna/releases/tag/v3.0.0. Use suggest_float(..., log=True) instead.\n",
            "  'learning_rate': trial.suggest_loguniform('learning_rate', 0.01, 0.3),\n",
            "<ipython-input-3-aa0f503babcb>:43: FutureWarning: suggest_loguniform has been deprecated in v3.0.0. This feature will be removed in v6.0.0. See https://github.com/optuna/optuna/releases/tag/v3.0.0. Use suggest_float(..., log=True) instead.\n",
            "  'lambda': trial.suggest_loguniform('lambda', 1e-3, 10.0),\n",
            "<ipython-input-3-aa0f503babcb>:44: FutureWarning: suggest_loguniform has been deprecated in v3.0.0. This feature will be removed in v6.0.0. See https://github.com/optuna/optuna/releases/tag/v3.0.0. Use suggest_float(..., log=True) instead.\n",
            "  'alpha': trial.suggest_loguniform('alpha', 1e-3, 10.0)\n",
            "[I 2024-10-19 18:10:23,552] Trial 15 finished with value: 0.8560523446019629 and parameters: {'n_estimators': 216, 'max_depth': 11, 'learning_rate': 0.1220891870599754, 'subsample': 0.9081942351384866, 'colsample_bytree': 0.6931249934080682, 'lambda': 1.107082540089323, 'alpha': 4.076290783625302}. Best is trial 8 with value: 0.871319520174482.\n",
            "<ipython-input-3-aa0f503babcb>:40: FutureWarning: suggest_loguniform has been deprecated in v3.0.0. This feature will be removed in v6.0.0. See https://github.com/optuna/optuna/releases/tag/v3.0.0. Use suggest_float(..., log=True) instead.\n",
            "  'learning_rate': trial.suggest_loguniform('learning_rate', 0.01, 0.3),\n",
            "<ipython-input-3-aa0f503babcb>:43: FutureWarning: suggest_loguniform has been deprecated in v3.0.0. This feature will be removed in v6.0.0. See https://github.com/optuna/optuna/releases/tag/v3.0.0. Use suggest_float(..., log=True) instead.\n",
            "  'lambda': trial.suggest_loguniform('lambda', 1e-3, 10.0),\n",
            "<ipython-input-3-aa0f503babcb>:44: FutureWarning: suggest_loguniform has been deprecated in v3.0.0. This feature will be removed in v6.0.0. See https://github.com/optuna/optuna/releases/tag/v3.0.0. Use suggest_float(..., log=True) instead.\n",
            "  'alpha': trial.suggest_loguniform('alpha', 1e-3, 10.0)\n",
            "[I 2024-10-19 18:10:29,359] Trial 16 finished with value: 0.8593238822246456 and parameters: {'n_estimators': 420, 'max_depth': 9, 'learning_rate': 0.030139455051300213, 'subsample': 0.7890246673978416, 'colsample_bytree': 0.6085205023643228, 'lambda': 0.008915539779885982, 'alpha': 0.1688055177128673}. Best is trial 8 with value: 0.871319520174482.\n",
            "<ipython-input-3-aa0f503babcb>:40: FutureWarning: suggest_loguniform has been deprecated in v3.0.0. This feature will be removed in v6.0.0. See https://github.com/optuna/optuna/releases/tag/v3.0.0. Use suggest_float(..., log=True) instead.\n",
            "  'learning_rate': trial.suggest_loguniform('learning_rate', 0.01, 0.3),\n",
            "<ipython-input-3-aa0f503babcb>:43: FutureWarning: suggest_loguniform has been deprecated in v3.0.0. This feature will be removed in v6.0.0. See https://github.com/optuna/optuna/releases/tag/v3.0.0. Use suggest_float(..., log=True) instead.\n",
            "  'lambda': trial.suggest_loguniform('lambda', 1e-3, 10.0),\n",
            "<ipython-input-3-aa0f503babcb>:44: FutureWarning: suggest_loguniform has been deprecated in v3.0.0. This feature will be removed in v6.0.0. See https://github.com/optuna/optuna/releases/tag/v3.0.0. Use suggest_float(..., log=True) instead.\n",
            "  'alpha': trial.suggest_loguniform('alpha', 1e-3, 10.0)\n",
            "[I 2024-10-19 18:10:35,230] Trial 17 finished with value: 0.8582333696837514 and parameters: {'n_estimators': 666, 'max_depth': 6, 'learning_rate': 0.015511172108764444, 'subsample': 0.6974155728319957, 'colsample_bytree': 0.7241428126294778, 'lambda': 0.0010061984885667277, 'alpha': 0.03530219099237105}. Best is trial 8 with value: 0.871319520174482.\n",
            "<ipython-input-3-aa0f503babcb>:40: FutureWarning: suggest_loguniform has been deprecated in v3.0.0. This feature will be removed in v6.0.0. See https://github.com/optuna/optuna/releases/tag/v3.0.0. Use suggest_float(..., log=True) instead.\n",
            "  'learning_rate': trial.suggest_loguniform('learning_rate', 0.01, 0.3),\n",
            "<ipython-input-3-aa0f503babcb>:43: FutureWarning: suggest_loguniform has been deprecated in v3.0.0. This feature will be removed in v6.0.0. See https://github.com/optuna/optuna/releases/tag/v3.0.0. Use suggest_float(..., log=True) instead.\n",
            "  'lambda': trial.suggest_loguniform('lambda', 1e-3, 10.0),\n",
            "<ipython-input-3-aa0f503babcb>:44: FutureWarning: suggest_loguniform has been deprecated in v3.0.0. This feature will be removed in v6.0.0. See https://github.com/optuna/optuna/releases/tag/v3.0.0. Use suggest_float(..., log=True) instead.\n",
            "  'alpha': trial.suggest_loguniform('alpha', 1e-3, 10.0)\n",
            "[I 2024-10-19 18:10:40,547] Trial 18 finished with value: 0.8647764449291166 and parameters: {'n_estimators': 264, 'max_depth': 12, 'learning_rate': 0.041960863154338314, 'subsample': 0.8929732087611492, 'colsample_bytree': 0.6045066821279999, 'lambda': 0.06542185410730494, 'alpha': 0.18634155165880625}. Best is trial 8 with value: 0.871319520174482.\n",
            "<ipython-input-3-aa0f503babcb>:40: FutureWarning: suggest_loguniform has been deprecated in v3.0.0. This feature will be removed in v6.0.0. See https://github.com/optuna/optuna/releases/tag/v3.0.0. Use suggest_float(..., log=True) instead.\n",
            "  'learning_rate': trial.suggest_loguniform('learning_rate', 0.01, 0.3),\n",
            "<ipython-input-3-aa0f503babcb>:43: FutureWarning: suggest_loguniform has been deprecated in v3.0.0. This feature will be removed in v6.0.0. See https://github.com/optuna/optuna/releases/tag/v3.0.0. Use suggest_float(..., log=True) instead.\n",
            "  'lambda': trial.suggest_loguniform('lambda', 1e-3, 10.0),\n",
            "<ipython-input-3-aa0f503babcb>:44: FutureWarning: suggest_loguniform has been deprecated in v3.0.0. This feature will be removed in v6.0.0. See https://github.com/optuna/optuna/releases/tag/v3.0.0. Use suggest_float(..., log=True) instead.\n",
            "  'alpha': trial.suggest_loguniform('alpha', 1e-3, 10.0)\n",
            "[I 2024-10-19 18:10:52,914] Trial 19 finished with value: 0.8604143947655398 and parameters: {'n_estimators': 639, 'max_depth': 9, 'learning_rate': 0.022068836313036588, 'subsample': 0.7950113978180364, 'colsample_bytree': 0.8028568982669746, 'lambda': 0.4025684796545764, 'alpha': 1.7372190533944107}. Best is trial 8 with value: 0.871319520174482.\n",
            "<ipython-input-3-aa0f503babcb>:40: FutureWarning: suggest_loguniform has been deprecated in v3.0.0. This feature will be removed in v6.0.0. See https://github.com/optuna/optuna/releases/tag/v3.0.0. Use suggest_float(..., log=True) instead.\n",
            "  'learning_rate': trial.suggest_loguniform('learning_rate', 0.01, 0.3),\n",
            "<ipython-input-3-aa0f503babcb>:43: FutureWarning: suggest_loguniform has been deprecated in v3.0.0. This feature will be removed in v6.0.0. See https://github.com/optuna/optuna/releases/tag/v3.0.0. Use suggest_float(..., log=True) instead.\n",
            "  'lambda': trial.suggest_loguniform('lambda', 1e-3, 10.0),\n",
            "<ipython-input-3-aa0f503babcb>:44: FutureWarning: suggest_loguniform has been deprecated in v3.0.0. This feature will be removed in v6.0.0. See https://github.com/optuna/optuna/releases/tag/v3.0.0. Use suggest_float(..., log=True) instead.\n",
            "  'alpha': trial.suggest_loguniform('alpha', 1e-3, 10.0)\n",
            "[I 2024-10-19 18:10:54,851] Trial 20 finished with value: 0.8669574700109052 and parameters: {'n_estimators': 204, 'max_depth': 7, 'learning_rate': 0.1322854751771175, 'subsample': 0.9481542701260837, 'colsample_bytree': 0.5104008363530382, 'lambda': 0.841829461599336, 'alpha': 0.05891383911255341}. Best is trial 8 with value: 0.871319520174482.\n",
            "<ipython-input-3-aa0f503babcb>:40: FutureWarning: suggest_loguniform has been deprecated in v3.0.0. This feature will be removed in v6.0.0. See https://github.com/optuna/optuna/releases/tag/v3.0.0. Use suggest_float(..., log=True) instead.\n",
            "  'learning_rate': trial.suggest_loguniform('learning_rate', 0.01, 0.3),\n",
            "<ipython-input-3-aa0f503babcb>:43: FutureWarning: suggest_loguniform has been deprecated in v3.0.0. This feature will be removed in v6.0.0. See https://github.com/optuna/optuna/releases/tag/v3.0.0. Use suggest_float(..., log=True) instead.\n",
            "  'lambda': trial.suggest_loguniform('lambda', 1e-3, 10.0),\n",
            "<ipython-input-3-aa0f503babcb>:44: FutureWarning: suggest_loguniform has been deprecated in v3.0.0. This feature will be removed in v6.0.0. See https://github.com/optuna/optuna/releases/tag/v3.0.0. Use suggest_float(..., log=True) instead.\n",
            "  'alpha': trial.suggest_loguniform('alpha', 1e-3, 10.0)\n",
            "[I 2024-10-19 18:10:56,794] Trial 21 finished with value: 0.8691384950926936 and parameters: {'n_estimators': 184, 'max_depth': 7, 'learning_rate': 0.12147976777764208, 'subsample': 0.9534995721388245, 'colsample_bytree': 0.5270698882445574, 'lambda': 0.9314793403887623, 'alpha': 0.05052232036949774}. Best is trial 8 with value: 0.871319520174482.\n",
            "<ipython-input-3-aa0f503babcb>:40: FutureWarning: suggest_loguniform has been deprecated in v3.0.0. This feature will be removed in v6.0.0. See https://github.com/optuna/optuna/releases/tag/v3.0.0. Use suggest_float(..., log=True) instead.\n",
            "  'learning_rate': trial.suggest_loguniform('learning_rate', 0.01, 0.3),\n",
            "<ipython-input-3-aa0f503babcb>:43: FutureWarning: suggest_loguniform has been deprecated in v3.0.0. This feature will be removed in v6.0.0. See https://github.com/optuna/optuna/releases/tag/v3.0.0. Use suggest_float(..., log=True) instead.\n",
            "  'lambda': trial.suggest_loguniform('lambda', 1e-3, 10.0),\n",
            "<ipython-input-3-aa0f503babcb>:44: FutureWarning: suggest_loguniform has been deprecated in v3.0.0. This feature will be removed in v6.0.0. See https://github.com/optuna/optuna/releases/tag/v3.0.0. Use suggest_float(..., log=True) instead.\n",
            "  'alpha': trial.suggest_loguniform('alpha', 1e-3, 10.0)\n",
            "[I 2024-10-19 18:10:59,457] Trial 22 finished with value: 0.8636859323882224 and parameters: {'n_estimators': 211, 'max_depth': 8, 'learning_rate': 0.15028103850489638, 'subsample': 0.9398029910181082, 'colsample_bytree': 0.5006466890026444, 'lambda': 1.5207938896739346, 'alpha': 0.048027534939350386}. Best is trial 8 with value: 0.871319520174482.\n",
            "<ipython-input-3-aa0f503babcb>:40: FutureWarning: suggest_loguniform has been deprecated in v3.0.0. This feature will be removed in v6.0.0. See https://github.com/optuna/optuna/releases/tag/v3.0.0. Use suggest_float(..., log=True) instead.\n",
            "  'learning_rate': trial.suggest_loguniform('learning_rate', 0.01, 0.3),\n",
            "<ipython-input-3-aa0f503babcb>:43: FutureWarning: suggest_loguniform has been deprecated in v3.0.0. This feature will be removed in v6.0.0. See https://github.com/optuna/optuna/releases/tag/v3.0.0. Use suggest_float(..., log=True) instead.\n",
            "  'lambda': trial.suggest_loguniform('lambda', 1e-3, 10.0),\n",
            "<ipython-input-3-aa0f503babcb>:44: FutureWarning: suggest_loguniform has been deprecated in v3.0.0. This feature will be removed in v6.0.0. See https://github.com/optuna/optuna/releases/tag/v3.0.0. Use suggest_float(..., log=True) instead.\n",
            "  'alpha': trial.suggest_loguniform('alpha', 1e-3, 10.0)\n",
            "[I 2024-10-19 18:11:01,909] Trial 23 finished with value: 0.8669574700109052 and parameters: {'n_estimators': 346, 'max_depth': 7, 'learning_rate': 0.17489276414750013, 'subsample': 0.9546748143357268, 'colsample_bytree': 0.5475196914402447, 'lambda': 0.7651097532001547, 'alpha': 0.00976285612439802}. Best is trial 8 with value: 0.871319520174482.\n",
            "<ipython-input-3-aa0f503babcb>:40: FutureWarning: suggest_loguniform has been deprecated in v3.0.0. This feature will be removed in v6.0.0. See https://github.com/optuna/optuna/releases/tag/v3.0.0. Use suggest_float(..., log=True) instead.\n",
            "  'learning_rate': trial.suggest_loguniform('learning_rate', 0.01, 0.3),\n",
            "<ipython-input-3-aa0f503babcb>:43: FutureWarning: suggest_loguniform has been deprecated in v3.0.0. This feature will be removed in v6.0.0. See https://github.com/optuna/optuna/releases/tag/v3.0.0. Use suggest_float(..., log=True) instead.\n",
            "  'lambda': trial.suggest_loguniform('lambda', 1e-3, 10.0),\n",
            "<ipython-input-3-aa0f503babcb>:44: FutureWarning: suggest_loguniform has been deprecated in v3.0.0. This feature will be removed in v6.0.0. See https://github.com/optuna/optuna/releases/tag/v3.0.0. Use suggest_float(..., log=True) instead.\n",
            "  'alpha': trial.suggest_loguniform('alpha', 1e-3, 10.0)\n",
            "[I 2024-10-19 18:11:04,912] Trial 24 finished with value: 0.8604143947655398 and parameters: {'n_estimators': 189, 'max_depth': 10, 'learning_rate': 0.10781110953434107, 'subsample': 0.8725957176859045, 'colsample_bytree': 0.6027134557220415, 'lambda': 2.5409151019114833, 'alpha': 0.017251579187465945}. Best is trial 8 with value: 0.871319520174482.\n",
            "<ipython-input-3-aa0f503babcb>:40: FutureWarning: suggest_loguniform has been deprecated in v3.0.0. This feature will be removed in v6.0.0. See https://github.com/optuna/optuna/releases/tag/v3.0.0. Use suggest_float(..., log=True) instead.\n",
            "  'learning_rate': trial.suggest_loguniform('learning_rate', 0.01, 0.3),\n",
            "<ipython-input-3-aa0f503babcb>:43: FutureWarning: suggest_loguniform has been deprecated in v3.0.0. This feature will be removed in v6.0.0. See https://github.com/optuna/optuna/releases/tag/v3.0.0. Use suggest_float(..., log=True) instead.\n",
            "  'lambda': trial.suggest_loguniform('lambda', 1e-3, 10.0),\n",
            "<ipython-input-3-aa0f503babcb>:44: FutureWarning: suggest_loguniform has been deprecated in v3.0.0. This feature will be removed in v6.0.0. See https://github.com/optuna/optuna/releases/tag/v3.0.0. Use suggest_float(..., log=True) instead.\n",
            "  'alpha': trial.suggest_loguniform('alpha', 1e-3, 10.0)\n",
            "[I 2024-10-19 18:11:06,502] Trial 25 finished with value: 0.861504907306434 and parameters: {'n_estimators': 286, 'max_depth': 5, 'learning_rate': 0.21210068096153395, 'subsample': 0.9929379946164958, 'colsample_bytree': 0.5345365647569893, 'lambda': 0.5679503983928723, 'alpha': 0.05467730976035912}. Best is trial 8 with value: 0.871319520174482.\n",
            "<ipython-input-3-aa0f503babcb>:40: FutureWarning: suggest_loguniform has been deprecated in v3.0.0. This feature will be removed in v6.0.0. See https://github.com/optuna/optuna/releases/tag/v3.0.0. Use suggest_float(..., log=True) instead.\n",
            "  'learning_rate': trial.suggest_loguniform('learning_rate', 0.01, 0.3),\n",
            "<ipython-input-3-aa0f503babcb>:43: FutureWarning: suggest_loguniform has been deprecated in v3.0.0. This feature will be removed in v6.0.0. See https://github.com/optuna/optuna/releases/tag/v3.0.0. Use suggest_float(..., log=True) instead.\n",
            "  'lambda': trial.suggest_loguniform('lambda', 1e-3, 10.0),\n",
            "<ipython-input-3-aa0f503babcb>:44: FutureWarning: suggest_loguniform has been deprecated in v3.0.0. This feature will be removed in v6.0.0. See https://github.com/optuna/optuna/releases/tag/v3.0.0. Use suggest_float(..., log=True) instead.\n",
            "  'alpha': trial.suggest_loguniform('alpha', 1e-3, 10.0)\n",
            "[I 2024-10-19 18:11:09,788] Trial 26 finished with value: 0.8560523446019629 and parameters: {'n_estimators': 412, 'max_depth': 7, 'learning_rate': 0.08941384662644292, 'subsample': 0.9277060933910473, 'colsample_bytree': 0.6290189359131113, 'lambda': 0.07567719402900334, 'alpha': 0.0037154228060707166}. Best is trial 8 with value: 0.871319520174482.\n",
            "<ipython-input-3-aa0f503babcb>:40: FutureWarning: suggest_loguniform has been deprecated in v3.0.0. This feature will be removed in v6.0.0. See https://github.com/optuna/optuna/releases/tag/v3.0.0. Use suggest_float(..., log=True) instead.\n",
            "  'learning_rate': trial.suggest_loguniform('learning_rate', 0.01, 0.3),\n",
            "<ipython-input-3-aa0f503babcb>:43: FutureWarning: suggest_loguniform has been deprecated in v3.0.0. This feature will be removed in v6.0.0. See https://github.com/optuna/optuna/releases/tag/v3.0.0. Use suggest_float(..., log=True) instead.\n",
            "  'lambda': trial.suggest_loguniform('lambda', 1e-3, 10.0),\n",
            "<ipython-input-3-aa0f503babcb>:44: FutureWarning: suggest_loguniform has been deprecated in v3.0.0. This feature will be removed in v6.0.0. See https://github.com/optuna/optuna/releases/tag/v3.0.0. Use suggest_float(..., log=True) instead.\n",
            "  'alpha': trial.suggest_loguniform('alpha', 1e-3, 10.0)\n",
            "[I 2024-10-19 18:11:16,649] Trial 27 finished with value: 0.8647764449291166 and parameters: {'n_estimators': 485, 'max_depth': 10, 'learning_rate': 0.0679300323783552, 'subsample': 0.9688450465391235, 'colsample_bytree': 0.5795869517501957, 'lambda': 2.69517800774793, 'alpha': 0.2999496701064286}. Best is trial 8 with value: 0.871319520174482.\n",
            "<ipython-input-3-aa0f503babcb>:40: FutureWarning: suggest_loguniform has been deprecated in v3.0.0. This feature will be removed in v6.0.0. See https://github.com/optuna/optuna/releases/tag/v3.0.0. Use suggest_float(..., log=True) instead.\n",
            "  'learning_rate': trial.suggest_loguniform('learning_rate', 0.01, 0.3),\n",
            "<ipython-input-3-aa0f503babcb>:43: FutureWarning: suggest_loguniform has been deprecated in v3.0.0. This feature will be removed in v6.0.0. See https://github.com/optuna/optuna/releases/tag/v3.0.0. Use suggest_float(..., log=True) instead.\n",
            "  'lambda': trial.suggest_loguniform('lambda', 1e-3, 10.0),\n",
            "<ipython-input-3-aa0f503babcb>:44: FutureWarning: suggest_loguniform has been deprecated in v3.0.0. This feature will be removed in v6.0.0. See https://github.com/optuna/optuna/releases/tag/v3.0.0. Use suggest_float(..., log=True) instead.\n",
            "  'alpha': trial.suggest_loguniform('alpha', 1e-3, 10.0)\n",
            "[I 2024-10-19 18:11:17,774] Trial 28 finished with value: 0.8582333696837514 and parameters: {'n_estimators': 175, 'max_depth': 5, 'learning_rate': 0.11756773427231441, 'subsample': 0.876435243392368, 'colsample_bytree': 0.5221844239973125, 'lambda': 0.1324959148960768, 'alpha': 0.01383293669215305}. Best is trial 8 with value: 0.871319520174482.\n",
            "<ipython-input-3-aa0f503babcb>:40: FutureWarning: suggest_loguniform has been deprecated in v3.0.0. This feature will be removed in v6.0.0. See https://github.com/optuna/optuna/releases/tag/v3.0.0. Use suggest_float(..., log=True) instead.\n",
            "  'learning_rate': trial.suggest_loguniform('learning_rate', 0.01, 0.3),\n",
            "<ipython-input-3-aa0f503babcb>:43: FutureWarning: suggest_loguniform has been deprecated in v3.0.0. This feature will be removed in v6.0.0. See https://github.com/optuna/optuna/releases/tag/v3.0.0. Use suggest_float(..., log=True) instead.\n",
            "  'lambda': trial.suggest_loguniform('lambda', 1e-3, 10.0),\n",
            "<ipython-input-3-aa0f503babcb>:44: FutureWarning: suggest_loguniform has been deprecated in v3.0.0. This feature will be removed in v6.0.0. See https://github.com/optuna/optuna/releases/tag/v3.0.0. Use suggest_float(..., log=True) instead.\n",
            "  'alpha': trial.suggest_loguniform('alpha', 1e-3, 10.0)\n",
            "[I 2024-10-19 18:11:25,800] Trial 29 finished with value: 0.8582333696837514 and parameters: {'n_estimators': 594, 'max_depth': 9, 'learning_rate': 0.054980935549617284, 'subsample': 0.9234853456262972, 'colsample_bytree': 0.5114969200183255, 'lambda': 8.182341715921117, 'alpha': 0.06731074356874843}. Best is trial 8 with value: 0.871319520174482.\n",
            "<ipython-input-3-aa0f503babcb>:40: FutureWarning: suggest_loguniform has been deprecated in v3.0.0. This feature will be removed in v6.0.0. See https://github.com/optuna/optuna/releases/tag/v3.0.0. Use suggest_float(..., log=True) instead.\n",
            "  'learning_rate': trial.suggest_loguniform('learning_rate', 0.01, 0.3),\n",
            "<ipython-input-3-aa0f503babcb>:43: FutureWarning: suggest_loguniform has been deprecated in v3.0.0. This feature will be removed in v6.0.0. See https://github.com/optuna/optuna/releases/tag/v3.0.0. Use suggest_float(..., log=True) instead.\n",
            "  'lambda': trial.suggest_loguniform('lambda', 1e-3, 10.0),\n",
            "<ipython-input-3-aa0f503babcb>:44: FutureWarning: suggest_loguniform has been deprecated in v3.0.0. This feature will be removed in v6.0.0. See https://github.com/optuna/optuna/releases/tag/v3.0.0. Use suggest_float(..., log=True) instead.\n",
            "  'alpha': trial.suggest_loguniform('alpha', 1e-3, 10.0)\n",
            "[I 2024-10-19 18:11:28,426] Trial 30 finished with value: 0.8560523446019629 and parameters: {'n_estimators': 261, 'max_depth': 11, 'learning_rate': 0.1569790859648665, 'subsample': 0.6557709503208053, 'colsample_bytree': 0.5763384866905619, 'lambda': 0.34997834491842666, 'alpha': 0.004689130529398989}. Best is trial 8 with value: 0.871319520174482.\n",
            "<ipython-input-3-aa0f503babcb>:40: FutureWarning: suggest_loguniform has been deprecated in v3.0.0. This feature will be removed in v6.0.0. See https://github.com/optuna/optuna/releases/tag/v3.0.0. Use suggest_float(..., log=True) instead.\n",
            "  'learning_rate': trial.suggest_loguniform('learning_rate', 0.01, 0.3),\n",
            "<ipython-input-3-aa0f503babcb>:43: FutureWarning: suggest_loguniform has been deprecated in v3.0.0. This feature will be removed in v6.0.0. See https://github.com/optuna/optuna/releases/tag/v3.0.0. Use suggest_float(..., log=True) instead.\n",
            "  'lambda': trial.suggest_loguniform('lambda', 1e-3, 10.0),\n",
            "<ipython-input-3-aa0f503babcb>:44: FutureWarning: suggest_loguniform has been deprecated in v3.0.0. This feature will be removed in v6.0.0. See https://github.com/optuna/optuna/releases/tag/v3.0.0. Use suggest_float(..., log=True) instead.\n",
            "  'alpha': trial.suggest_loguniform('alpha', 1e-3, 10.0)\n",
            "[I 2024-10-19 18:11:30,804] Trial 31 finished with value: 0.8647764449291166 and parameters: {'n_estimators': 341, 'max_depth': 7, 'learning_rate': 0.1812693356409098, 'subsample': 0.9651477298921979, 'colsample_bytree': 0.5440874207239156, 'lambda': 0.7219809075797113, 'alpha': 0.001842140312707281}. Best is trial 8 with value: 0.871319520174482.\n",
            "<ipython-input-3-aa0f503babcb>:40: FutureWarning: suggest_loguniform has been deprecated in v3.0.0. This feature will be removed in v6.0.0. See https://github.com/optuna/optuna/releases/tag/v3.0.0. Use suggest_float(..., log=True) instead.\n",
            "  'learning_rate': trial.suggest_loguniform('learning_rate', 0.01, 0.3),\n",
            "<ipython-input-3-aa0f503babcb>:43: FutureWarning: suggest_loguniform has been deprecated in v3.0.0. This feature will be removed in v6.0.0. See https://github.com/optuna/optuna/releases/tag/v3.0.0. Use suggest_float(..., log=True) instead.\n",
            "  'lambda': trial.suggest_loguniform('lambda', 1e-3, 10.0),\n",
            "<ipython-input-3-aa0f503babcb>:44: FutureWarning: suggest_loguniform has been deprecated in v3.0.0. This feature will be removed in v6.0.0. See https://github.com/optuna/optuna/releases/tag/v3.0.0. Use suggest_float(..., log=True) instead.\n",
            "  'alpha': trial.suggest_loguniform('alpha', 1e-3, 10.0)\n",
            "[I 2024-10-19 18:11:33,402] Trial 32 finished with value: 0.8571428571428571 and parameters: {'n_estimators': 244, 'max_depth': 8, 'learning_rate': 0.14783772062958586, 'subsample': 0.9516346918676749, 'colsample_bytree': 0.5567668994459747, 'lambda': 1.1160990054430049, 'alpha': 0.009249519433282576}. Best is trial 8 with value: 0.871319520174482.\n",
            "<ipython-input-3-aa0f503babcb>:40: FutureWarning: suggest_loguniform has been deprecated in v3.0.0. This feature will be removed in v6.0.0. See https://github.com/optuna/optuna/releases/tag/v3.0.0. Use suggest_float(..., log=True) instead.\n",
            "  'learning_rate': trial.suggest_loguniform('learning_rate', 0.01, 0.3),\n",
            "<ipython-input-3-aa0f503babcb>:43: FutureWarning: suggest_loguniform has been deprecated in v3.0.0. This feature will be removed in v6.0.0. See https://github.com/optuna/optuna/releases/tag/v3.0.0. Use suggest_float(..., log=True) instead.\n",
            "  'lambda': trial.suggest_loguniform('lambda', 1e-3, 10.0),\n",
            "<ipython-input-3-aa0f503babcb>:44: FutureWarning: suggest_loguniform has been deprecated in v3.0.0. This feature will be removed in v6.0.0. See https://github.com/optuna/optuna/releases/tag/v3.0.0. Use suggest_float(..., log=True) instead.\n",
            "  'alpha': trial.suggest_loguniform('alpha', 1e-3, 10.0)\n",
            "[I 2024-10-19 18:11:36,084] Trial 33 finished with value: 0.8593238822246456 and parameters: {'n_estimators': 348, 'max_depth': 7, 'learning_rate': 0.2069151654345425, 'subsample': 0.8742069813040689, 'colsample_bytree': 0.5317080646611066, 'lambda': 2.2334729624514207, 'alpha': 0.028168551400701253}. Best is trial 8 with value: 0.871319520174482.\n",
            "<ipython-input-3-aa0f503babcb>:40: FutureWarning: suggest_loguniform has been deprecated in v3.0.0. This feature will be removed in v6.0.0. See https://github.com/optuna/optuna/releases/tag/v3.0.0. Use suggest_float(..., log=True) instead.\n",
            "  'learning_rate': trial.suggest_loguniform('learning_rate', 0.01, 0.3),\n",
            "<ipython-input-3-aa0f503babcb>:43: FutureWarning: suggest_loguniform has been deprecated in v3.0.0. This feature will be removed in v6.0.0. See https://github.com/optuna/optuna/releases/tag/v3.0.0. Use suggest_float(..., log=True) instead.\n",
            "  'lambda': trial.suggest_loguniform('lambda', 1e-3, 10.0),\n",
            "<ipython-input-3-aa0f503babcb>:44: FutureWarning: suggest_loguniform has been deprecated in v3.0.0. This feature will be removed in v6.0.0. See https://github.com/optuna/optuna/releases/tag/v3.0.0. Use suggest_float(..., log=True) instead.\n",
            "  'alpha': trial.suggest_loguniform('alpha', 1e-3, 10.0)\n",
            "[I 2024-10-19 18:11:39,269] Trial 34 finished with value: 0.8680479825517994 and parameters: {'n_estimators': 295, 'max_depth': 8, 'learning_rate': 0.10115936130603392, 'subsample': 0.9712128694592257, 'colsample_bytree': 0.5022433004535448, 'lambda': 0.7275356311295924, 'alpha': 0.013502678483553888}. Best is trial 8 with value: 0.871319520174482.\n",
            "<ipython-input-3-aa0f503babcb>:40: FutureWarning: suggest_loguniform has been deprecated in v3.0.0. This feature will be removed in v6.0.0. See https://github.com/optuna/optuna/releases/tag/v3.0.0. Use suggest_float(..., log=True) instead.\n",
            "  'learning_rate': trial.suggest_loguniform('learning_rate', 0.01, 0.3),\n",
            "<ipython-input-3-aa0f503babcb>:43: FutureWarning: suggest_loguniform has been deprecated in v3.0.0. This feature will be removed in v6.0.0. See https://github.com/optuna/optuna/releases/tag/v3.0.0. Use suggest_float(..., log=True) instead.\n",
            "  'lambda': trial.suggest_loguniform('lambda', 1e-3, 10.0),\n",
            "<ipython-input-3-aa0f503babcb>:44: FutureWarning: suggest_loguniform has been deprecated in v3.0.0. This feature will be removed in v6.0.0. See https://github.com/optuna/optuna/releases/tag/v3.0.0. Use suggest_float(..., log=True) instead.\n",
            "  'alpha': trial.suggest_loguniform('alpha', 1e-3, 10.0)\n",
            "[I 2024-10-19 18:11:41,640] Trial 35 finished with value: 0.8702290076335878 and parameters: {'n_estimators': 155, 'max_depth': 10, 'learning_rate': 0.09187583570364909, 'subsample': 0.9966359189603281, 'colsample_bytree': 0.5130058729735466, 'lambda': 0.20380909678805295, 'alpha': 0.12067048891726705}. Best is trial 8 with value: 0.871319520174482.\n",
            "<ipython-input-3-aa0f503babcb>:40: FutureWarning: suggest_loguniform has been deprecated in v3.0.0. This feature will be removed in v6.0.0. See https://github.com/optuna/optuna/releases/tag/v3.0.0. Use suggest_float(..., log=True) instead.\n",
            "  'learning_rate': trial.suggest_loguniform('learning_rate', 0.01, 0.3),\n",
            "<ipython-input-3-aa0f503babcb>:43: FutureWarning: suggest_loguniform has been deprecated in v3.0.0. This feature will be removed in v6.0.0. See https://github.com/optuna/optuna/releases/tag/v3.0.0. Use suggest_float(..., log=True) instead.\n",
            "  'lambda': trial.suggest_loguniform('lambda', 1e-3, 10.0),\n",
            "<ipython-input-3-aa0f503babcb>:44: FutureWarning: suggest_loguniform has been deprecated in v3.0.0. This feature will be removed in v6.0.0. See https://github.com/optuna/optuna/releases/tag/v3.0.0. Use suggest_float(..., log=True) instead.\n",
            "  'alpha': trial.suggest_loguniform('alpha', 1e-3, 10.0)\n",
            "[I 2024-10-19 18:11:45,051] Trial 36 finished with value: 0.8658669574700109 and parameters: {'n_estimators': 298, 'max_depth': 10, 'learning_rate': 0.09807634478867722, 'subsample': 0.9770182131730804, 'colsample_bytree': 0.5863235615398024, 'lambda': 0.055964824300716115, 'alpha': 0.13185843777031103}. Best is trial 8 with value: 0.871319520174482.\n",
            "<ipython-input-3-aa0f503babcb>:40: FutureWarning: suggest_loguniform has been deprecated in v3.0.0. This feature will be removed in v6.0.0. See https://github.com/optuna/optuna/releases/tag/v3.0.0. Use suggest_float(..., log=True) instead.\n",
            "  'learning_rate': trial.suggest_loguniform('learning_rate', 0.01, 0.3),\n",
            "<ipython-input-3-aa0f503babcb>:43: FutureWarning: suggest_loguniform has been deprecated in v3.0.0. This feature will be removed in v6.0.0. See https://github.com/optuna/optuna/releases/tag/v3.0.0. Use suggest_float(..., log=True) instead.\n",
            "  'lambda': trial.suggest_loguniform('lambda', 1e-3, 10.0),\n",
            "<ipython-input-3-aa0f503babcb>:44: FutureWarning: suggest_loguniform has been deprecated in v3.0.0. This feature will be removed in v6.0.0. See https://github.com/optuna/optuna/releases/tag/v3.0.0. Use suggest_float(..., log=True) instead.\n",
            "  'alpha': trial.suggest_loguniform('alpha', 1e-3, 10.0)\n",
            "[I 2024-10-19 18:11:48,497] Trial 37 finished with value: 0.8724100327153762 and parameters: {'n_estimators': 160, 'max_depth': 12, 'learning_rate': 0.06806890658910449, 'subsample': 0.9995021266803916, 'colsample_bytree': 0.6285817854072765, 'lambda': 0.11019480721665534, 'alpha': 0.005958951726100463}. Best is trial 37 with value: 0.8724100327153762.\n",
            "<ipython-input-3-aa0f503babcb>:40: FutureWarning: suggest_loguniform has been deprecated in v3.0.0. This feature will be removed in v6.0.0. See https://github.com/optuna/optuna/releases/tag/v3.0.0. Use suggest_float(..., log=True) instead.\n",
            "  'learning_rate': trial.suggest_loguniform('learning_rate', 0.01, 0.3),\n",
            "<ipython-input-3-aa0f503babcb>:43: FutureWarning: suggest_loguniform has been deprecated in v3.0.0. This feature will be removed in v6.0.0. See https://github.com/optuna/optuna/releases/tag/v3.0.0. Use suggest_float(..., log=True) instead.\n",
            "  'lambda': trial.suggest_loguniform('lambda', 1e-3, 10.0),\n",
            "<ipython-input-3-aa0f503babcb>:44: FutureWarning: suggest_loguniform has been deprecated in v3.0.0. This feature will be removed in v6.0.0. See https://github.com/optuna/optuna/releases/tag/v3.0.0. Use suggest_float(..., log=True) instead.\n",
            "  'alpha': trial.suggest_loguniform('alpha', 1e-3, 10.0)\n",
            "[I 2024-10-19 18:11:51,656] Trial 38 finished with value: 0.8495092693565977 and parameters: {'n_estimators': 143, 'max_depth': 13, 'learning_rate': 0.06584880132170039, 'subsample': 0.5542246842359551, 'colsample_bytree': 0.6444667895983244, 'lambda': 0.19192325391684792, 'alpha': 0.005911089633464273}. Best is trial 37 with value: 0.8724100327153762.\n",
            "<ipython-input-3-aa0f503babcb>:40: FutureWarning: suggest_loguniform has been deprecated in v3.0.0. This feature will be removed in v6.0.0. See https://github.com/optuna/optuna/releases/tag/v3.0.0. Use suggest_float(..., log=True) instead.\n",
            "  'learning_rate': trial.suggest_loguniform('learning_rate', 0.01, 0.3),\n",
            "<ipython-input-3-aa0f503babcb>:43: FutureWarning: suggest_loguniform has been deprecated in v3.0.0. This feature will be removed in v6.0.0. See https://github.com/optuna/optuna/releases/tag/v3.0.0. Use suggest_float(..., log=True) instead.\n",
            "  'lambda': trial.suggest_loguniform('lambda', 1e-3, 10.0),\n",
            "<ipython-input-3-aa0f503babcb>:44: FutureWarning: suggest_loguniform has been deprecated in v3.0.0. This feature will be removed in v6.0.0. See https://github.com/optuna/optuna/releases/tag/v3.0.0. Use suggest_float(..., log=True) instead.\n",
            "  'alpha': trial.suggest_loguniform('alpha', 1e-3, 10.0)\n",
            "[I 2024-10-19 18:11:55,977] Trial 39 finished with value: 0.8680479825517994 and parameters: {'n_estimators': 157, 'max_depth': 15, 'learning_rate': 0.05177408129161942, 'subsample': 0.9184550684593984, 'colsample_bytree': 0.6980854329414772, 'lambda': 0.020394679272462357, 'alpha': 0.37058696868539936}. Best is trial 37 with value: 0.8724100327153762.\n",
            "<ipython-input-3-aa0f503babcb>:40: FutureWarning: suggest_loguniform has been deprecated in v3.0.0. This feature will be removed in v6.0.0. See https://github.com/optuna/optuna/releases/tag/v3.0.0. Use suggest_float(..., log=True) instead.\n",
            "  'learning_rate': trial.suggest_loguniform('learning_rate', 0.01, 0.3),\n",
            "<ipython-input-3-aa0f503babcb>:43: FutureWarning: suggest_loguniform has been deprecated in v3.0.0. This feature will be removed in v6.0.0. See https://github.com/optuna/optuna/releases/tag/v3.0.0. Use suggest_float(..., log=True) instead.\n",
            "  'lambda': trial.suggest_loguniform('lambda', 1e-3, 10.0),\n",
            "<ipython-input-3-aa0f503babcb>:44: FutureWarning: suggest_loguniform has been deprecated in v3.0.0. This feature will be removed in v6.0.0. See https://github.com/optuna/optuna/releases/tag/v3.0.0. Use suggest_float(..., log=True) instead.\n",
            "  'alpha': trial.suggest_loguniform('alpha', 1e-3, 10.0)\n",
            "[I 2024-10-19 18:12:05,917] Trial 40 finished with value: 0.8669574700109052 and parameters: {'n_estimators': 764, 'max_depth': 12, 'learning_rate': 0.04857799826072582, 'subsample': 0.9972603823309, 'colsample_bytree': 0.6285209021417526, 'lambda': 0.10016527831399794, 'alpha': 0.6652260264285192}. Best is trial 37 with value: 0.8724100327153762.\n",
            "<ipython-input-3-aa0f503babcb>:40: FutureWarning: suggest_loguniform has been deprecated in v3.0.0. This feature will be removed in v6.0.0. See https://github.com/optuna/optuna/releases/tag/v3.0.0. Use suggest_float(..., log=True) instead.\n",
            "  'learning_rate': trial.suggest_loguniform('learning_rate', 0.01, 0.3),\n",
            "<ipython-input-3-aa0f503babcb>:43: FutureWarning: suggest_loguniform has been deprecated in v3.0.0. This feature will be removed in v6.0.0. See https://github.com/optuna/optuna/releases/tag/v3.0.0. Use suggest_float(..., log=True) instead.\n",
            "  'lambda': trial.suggest_loguniform('lambda', 1e-3, 10.0),\n",
            "<ipython-input-3-aa0f503babcb>:44: FutureWarning: suggest_loguniform has been deprecated in v3.0.0. This feature will be removed in v6.0.0. See https://github.com/optuna/optuna/releases/tag/v3.0.0. Use suggest_float(..., log=True) instead.\n",
            "  'alpha': trial.suggest_loguniform('alpha', 1e-3, 10.0)\n",
            "[I 2024-10-19 18:12:08,713] Trial 41 finished with value: 0.8582333696837514 and parameters: {'n_estimators': 149, 'max_depth': 12, 'learning_rate': 0.07779886261191252, 'subsample': 0.9993451277490735, 'colsample_bytree': 0.5029406312733348, 'lambda': 0.32924847108336974, 'alpha': 0.016639755480675516}. Best is trial 37 with value: 0.8724100327153762.\n",
            "<ipython-input-3-aa0f503babcb>:40: FutureWarning: suggest_loguniform has been deprecated in v3.0.0. This feature will be removed in v6.0.0. See https://github.com/optuna/optuna/releases/tag/v3.0.0. Use suggest_float(..., log=True) instead.\n",
            "  'learning_rate': trial.suggest_loguniform('learning_rate', 0.01, 0.3),\n",
            "<ipython-input-3-aa0f503babcb>:43: FutureWarning: suggest_loguniform has been deprecated in v3.0.0. This feature will be removed in v6.0.0. See https://github.com/optuna/optuna/releases/tag/v3.0.0. Use suggest_float(..., log=True) instead.\n",
            "  'lambda': trial.suggest_loguniform('lambda', 1e-3, 10.0),\n",
            "<ipython-input-3-aa0f503babcb>:44: FutureWarning: suggest_loguniform has been deprecated in v3.0.0. This feature will be removed in v6.0.0. See https://github.com/optuna/optuna/releases/tag/v3.0.0. Use suggest_float(..., log=True) instead.\n",
            "  'alpha': trial.suggest_loguniform('alpha', 1e-3, 10.0)\n",
            "[I 2024-10-19 18:12:13,111] Trial 42 finished with value: 0.8724100327153762 and parameters: {'n_estimators': 243, 'max_depth': 11, 'learning_rate': 0.03519726192615479, 'subsample': 0.9710601016824779, 'colsample_bytree': 0.5723014496365945, 'lambda': 0.030300770127173367, 'alpha': 0.03905542393835238}. Best is trial 37 with value: 0.8724100327153762.\n",
            "<ipython-input-3-aa0f503babcb>:40: FutureWarning: suggest_loguniform has been deprecated in v3.0.0. This feature will be removed in v6.0.0. See https://github.com/optuna/optuna/releases/tag/v3.0.0. Use suggest_float(..., log=True) instead.\n",
            "  'learning_rate': trial.suggest_loguniform('learning_rate', 0.01, 0.3),\n",
            "<ipython-input-3-aa0f503babcb>:43: FutureWarning: suggest_loguniform has been deprecated in v3.0.0. This feature will be removed in v6.0.0. See https://github.com/optuna/optuna/releases/tag/v3.0.0. Use suggest_float(..., log=True) instead.\n",
            "  'lambda': trial.suggest_loguniform('lambda', 1e-3, 10.0),\n",
            "<ipython-input-3-aa0f503babcb>:44: FutureWarning: suggest_loguniform has been deprecated in v3.0.0. This feature will be removed in v6.0.0. See https://github.com/optuna/optuna/releases/tag/v3.0.0. Use suggest_float(..., log=True) instead.\n",
            "  'alpha': trial.suggest_loguniform('alpha', 1e-3, 10.0)\n",
            "[I 2024-10-19 18:12:18,603] Trial 43 finished with value: 0.8680479825517994 and parameters: {'n_estimators': 235, 'max_depth': 14, 'learning_rate': 0.034442040420763466, 'subsample': 0.9034988844799512, 'colsample_bytree': 0.5694406577077478, 'lambda': 0.02790297500982768, 'alpha': 0.040761421478365284}. Best is trial 37 with value: 0.8724100327153762.\n",
            "<ipython-input-3-aa0f503babcb>:40: FutureWarning: suggest_loguniform has been deprecated in v3.0.0. This feature will be removed in v6.0.0. See https://github.com/optuna/optuna/releases/tag/v3.0.0. Use suggest_float(..., log=True) instead.\n",
            "  'learning_rate': trial.suggest_loguniform('learning_rate', 0.01, 0.3),\n",
            "<ipython-input-3-aa0f503babcb>:43: FutureWarning: suggest_loguniform has been deprecated in v3.0.0. This feature will be removed in v6.0.0. See https://github.com/optuna/optuna/releases/tag/v3.0.0. Use suggest_float(..., log=True) instead.\n",
            "  'lambda': trial.suggest_loguniform('lambda', 1e-3, 10.0),\n",
            "<ipython-input-3-aa0f503babcb>:44: FutureWarning: suggest_loguniform has been deprecated in v3.0.0. This feature will be removed in v6.0.0. See https://github.com/optuna/optuna/releases/tag/v3.0.0. Use suggest_float(..., log=True) instead.\n",
            "  'alpha': trial.suggest_loguniform('alpha', 1e-3, 10.0)\n",
            "[I 2024-10-19 18:12:22,704] Trial 44 finished with value: 0.8680479825517994 and parameters: {'n_estimators': 147, 'max_depth': 13, 'learning_rate': 0.034642976849710204, 'subsample': 0.9341621362387428, 'colsample_bytree': 0.6137706621999548, 'lambda': 0.0449352980389766, 'alpha': 0.11165773579435792}. Best is trial 37 with value: 0.8724100327153762.\n",
            "<ipython-input-3-aa0f503babcb>:40: FutureWarning: suggest_loguniform has been deprecated in v3.0.0. This feature will be removed in v6.0.0. See https://github.com/optuna/optuna/releases/tag/v3.0.0. Use suggest_float(..., log=True) instead.\n",
            "  'learning_rate': trial.suggest_loguniform('learning_rate', 0.01, 0.3),\n",
            "<ipython-input-3-aa0f503babcb>:43: FutureWarning: suggest_loguniform has been deprecated in v3.0.0. This feature will be removed in v6.0.0. See https://github.com/optuna/optuna/releases/tag/v3.0.0. Use suggest_float(..., log=True) instead.\n",
            "  'lambda': trial.suggest_loguniform('lambda', 1e-3, 10.0),\n",
            "<ipython-input-3-aa0f503babcb>:44: FutureWarning: suggest_loguniform has been deprecated in v3.0.0. This feature will be removed in v6.0.0. See https://github.com/optuna/optuna/releases/tag/v3.0.0. Use suggest_float(..., log=True) instead.\n",
            "  'alpha': trial.suggest_loguniform('alpha', 1e-3, 10.0)\n",
            "[I 2024-10-19 18:12:25,045] Trial 45 finished with value: 0.8702290076335878 and parameters: {'n_estimators': 105, 'max_depth': 10, 'learning_rate': 0.026501091153270782, 'subsample': 0.96888226879787, 'colsample_bytree': 0.5889846164151076, 'lambda': 0.01568180814078852, 'alpha': 0.028063617898042466}. Best is trial 37 with value: 0.8724100327153762.\n",
            "<ipython-input-3-aa0f503babcb>:40: FutureWarning: suggest_loguniform has been deprecated in v3.0.0. This feature will be removed in v6.0.0. See https://github.com/optuna/optuna/releases/tag/v3.0.0. Use suggest_float(..., log=True) instead.\n",
            "  'learning_rate': trial.suggest_loguniform('learning_rate', 0.01, 0.3),\n",
            "<ipython-input-3-aa0f503babcb>:43: FutureWarning: suggest_loguniform has been deprecated in v3.0.0. This feature will be removed in v6.0.0. See https://github.com/optuna/optuna/releases/tag/v3.0.0. Use suggest_float(..., log=True) instead.\n",
            "  'lambda': trial.suggest_loguniform('lambda', 1e-3, 10.0),\n",
            "<ipython-input-3-aa0f503babcb>:44: FutureWarning: suggest_loguniform has been deprecated in v3.0.0. This feature will be removed in v6.0.0. See https://github.com/optuna/optuna/releases/tag/v3.0.0. Use suggest_float(..., log=True) instead.\n",
            "  'alpha': trial.suggest_loguniform('alpha', 1e-3, 10.0)\n",
            "[I 2024-10-19 18:12:28,473] Trial 46 finished with value: 0.8680479825517994 and parameters: {'n_estimators': 118, 'max_depth': 11, 'learning_rate': 0.026315050110500667, 'subsample': 0.9725459693466768, 'colsample_bytree': 0.669060877163134, 'lambda': 0.015707155438732596, 'alpha': 0.02083847083696382}. Best is trial 37 with value: 0.8724100327153762.\n",
            "<ipython-input-3-aa0f503babcb>:40: FutureWarning: suggest_loguniform has been deprecated in v3.0.0. This feature will be removed in v6.0.0. See https://github.com/optuna/optuna/releases/tag/v3.0.0. Use suggest_float(..., log=True) instead.\n",
            "  'learning_rate': trial.suggest_loguniform('learning_rate', 0.01, 0.3),\n",
            "<ipython-input-3-aa0f503babcb>:43: FutureWarning: suggest_loguniform has been deprecated in v3.0.0. This feature will be removed in v6.0.0. See https://github.com/optuna/optuna/releases/tag/v3.0.0. Use suggest_float(..., log=True) instead.\n",
            "  'lambda': trial.suggest_loguniform('lambda', 1e-3, 10.0),\n",
            "<ipython-input-3-aa0f503babcb>:44: FutureWarning: suggest_loguniform has been deprecated in v3.0.0. This feature will be removed in v6.0.0. See https://github.com/optuna/optuna/releases/tag/v3.0.0. Use suggest_float(..., log=True) instead.\n",
            "  'alpha': trial.suggest_loguniform('alpha', 1e-3, 10.0)\n",
            "[I 2024-10-19 18:12:30,877] Trial 47 finished with value: 0.861504907306434 and parameters: {'n_estimators': 106, 'max_depth': 9, 'learning_rate': 0.045679697659303485, 'subsample': 0.8412638448995651, 'colsample_bytree': 0.6493071381190736, 'lambda': 0.015500606468849501, 'alpha': 0.26628123590189157}. Best is trial 37 with value: 0.8724100327153762.\n",
            "<ipython-input-3-aa0f503babcb>:40: FutureWarning: suggest_loguniform has been deprecated in v3.0.0. This feature will be removed in v6.0.0. See https://github.com/optuna/optuna/releases/tag/v3.0.0. Use suggest_float(..., log=True) instead.\n",
            "  'learning_rate': trial.suggest_loguniform('learning_rate', 0.01, 0.3),\n",
            "<ipython-input-3-aa0f503babcb>:43: FutureWarning: suggest_loguniform has been deprecated in v3.0.0. This feature will be removed in v6.0.0. See https://github.com/optuna/optuna/releases/tag/v3.0.0. Use suggest_float(..., log=True) instead.\n",
            "  'lambda': trial.suggest_loguniform('lambda', 1e-3, 10.0),\n",
            "<ipython-input-3-aa0f503babcb>:44: FutureWarning: suggest_loguniform has been deprecated in v3.0.0. This feature will be removed in v6.0.0. See https://github.com/optuna/optuna/releases/tag/v3.0.0. Use suggest_float(..., log=True) instead.\n",
            "  'alpha': trial.suggest_loguniform('alpha', 1e-3, 10.0)\n",
            "[I 2024-10-19 18:12:40,567] Trial 48 finished with value: 0.8636859323882224 and parameters: {'n_estimators': 971, 'max_depth': 10, 'learning_rate': 0.031187050027382517, 'subsample': 0.8877715932773886, 'colsample_bytree': 0.5871051649510581, 'lambda': 0.003450638910194934, 'alpha': 0.02770219811153655}. Best is trial 37 with value: 0.8724100327153762.\n",
            "<ipython-input-3-aa0f503babcb>:40: FutureWarning: suggest_loguniform has been deprecated in v3.0.0. This feature will be removed in v6.0.0. See https://github.com/optuna/optuna/releases/tag/v3.0.0. Use suggest_float(..., log=True) instead.\n",
            "  'learning_rate': trial.suggest_loguniform('learning_rate', 0.01, 0.3),\n",
            "<ipython-input-3-aa0f503babcb>:43: FutureWarning: suggest_loguniform has been deprecated in v3.0.0. This feature will be removed in v6.0.0. See https://github.com/optuna/optuna/releases/tag/v3.0.0. Use suggest_float(..., log=True) instead.\n",
            "  'lambda': trial.suggest_loguniform('lambda', 1e-3, 10.0),\n",
            "<ipython-input-3-aa0f503babcb>:44: FutureWarning: suggest_loguniform has been deprecated in v3.0.0. This feature will be removed in v6.0.0. See https://github.com/optuna/optuna/releases/tag/v3.0.0. Use suggest_float(..., log=True) instead.\n",
            "  'alpha': trial.suggest_loguniform('alpha', 1e-3, 10.0)\n",
            "[I 2024-10-19 18:12:45,146] Trial 49 finished with value: 0.8571428571428571 and parameters: {'n_estimators': 227, 'max_depth': 11, 'learning_rate': 0.03983385239294324, 'subsample': 0.7160804574387121, 'colsample_bytree': 0.5559957633680426, 'lambda': 0.035416508575106045, 'alpha': 0.0019070409465621998}. Best is trial 37 with value: 0.8724100327153762.\n"
          ]
        },
        {
          "output_type": "stream",
          "name": "stdout",
          "text": [
            "Best Hyperparameters: {'n_estimators': 160, 'max_depth': 12, 'learning_rate': 0.06806890658910449, 'subsample': 0.9995021266803916, 'colsample_bytree': 0.6285817854072765, 'lambda': 0.11019480721665534, 'alpha': 0.005958951726100463}\n",
            "Predictions saved to submission_optuna.csv\n"
          ]
        }
      ]
    },
    {
      "cell_type": "code",
      "source": [
        "pip install catboost"
      ],
      "metadata": {
        "colab": {
          "base_uri": "https://localhost:8080/"
        },
        "id": "Mb4STS9TAEph",
        "outputId": "8d47a109-8dce-48de-829f-7800964a9083"
      },
      "execution_count": 3,
      "outputs": [
        {
          "output_type": "stream",
          "name": "stdout",
          "text": [
            "Collecting catboost\n",
            "  Downloading catboost-1.2.7-cp310-cp310-manylinux2014_x86_64.whl.metadata (1.2 kB)\n",
            "Requirement already satisfied: graphviz in /usr/local/lib/python3.10/dist-packages (from catboost) (0.20.3)\n",
            "Requirement already satisfied: matplotlib in /usr/local/lib/python3.10/dist-packages (from catboost) (3.7.1)\n",
            "Requirement already satisfied: numpy<2.0,>=1.16.0 in /usr/local/lib/python3.10/dist-packages (from catboost) (1.26.4)\n",
            "Requirement already satisfied: pandas>=0.24 in /usr/local/lib/python3.10/dist-packages (from catboost) (2.2.2)\n",
            "Requirement already satisfied: scipy in /usr/local/lib/python3.10/dist-packages (from catboost) (1.13.1)\n",
            "Requirement already satisfied: plotly in /usr/local/lib/python3.10/dist-packages (from catboost) (5.24.1)\n",
            "Requirement already satisfied: six in /usr/local/lib/python3.10/dist-packages (from catboost) (1.16.0)\n",
            "Requirement already satisfied: python-dateutil>=2.8.2 in /usr/local/lib/python3.10/dist-packages (from pandas>=0.24->catboost) (2.8.2)\n",
            "Requirement already satisfied: pytz>=2020.1 in /usr/local/lib/python3.10/dist-packages (from pandas>=0.24->catboost) (2024.2)\n",
            "Requirement already satisfied: tzdata>=2022.7 in /usr/local/lib/python3.10/dist-packages (from pandas>=0.24->catboost) (2024.2)\n",
            "Requirement already satisfied: contourpy>=1.0.1 in /usr/local/lib/python3.10/dist-packages (from matplotlib->catboost) (1.3.0)\n",
            "Requirement already satisfied: cycler>=0.10 in /usr/local/lib/python3.10/dist-packages (from matplotlib->catboost) (0.12.1)\n",
            "Requirement already satisfied: fonttools>=4.22.0 in /usr/local/lib/python3.10/dist-packages (from matplotlib->catboost) (4.54.1)\n",
            "Requirement already satisfied: kiwisolver>=1.0.1 in /usr/local/lib/python3.10/dist-packages (from matplotlib->catboost) (1.4.7)\n",
            "Requirement already satisfied: packaging>=20.0 in /usr/local/lib/python3.10/dist-packages (from matplotlib->catboost) (24.1)\n",
            "Requirement already satisfied: pillow>=6.2.0 in /usr/local/lib/python3.10/dist-packages (from matplotlib->catboost) (10.4.0)\n",
            "Requirement already satisfied: pyparsing>=2.3.1 in /usr/local/lib/python3.10/dist-packages (from matplotlib->catboost) (3.2.0)\n",
            "Requirement already satisfied: tenacity>=6.2.0 in /usr/local/lib/python3.10/dist-packages (from plotly->catboost) (9.0.0)\n",
            "Downloading catboost-1.2.7-cp310-cp310-manylinux2014_x86_64.whl (98.7 MB)\n",
            "\u001b[2K   \u001b[90m━━━━━━━━━━━━━━━━━━━━━━━━━━━━━━━━━━━━━━━━\u001b[0m \u001b[32m98.7/98.7 MB\u001b[0m \u001b[31m22.0 MB/s\u001b[0m eta \u001b[36m0:00:00\u001b[0m\n",
            "\u001b[?25hInstalling collected packages: catboost\n",
            "Successfully installed catboost-1.2.7\n"
          ]
        }
      ]
    },
    {
      "cell_type": "code",
      "source": [
        "pip install category-encoders"
      ],
      "metadata": {
        "colab": {
          "base_uri": "https://localhost:8080/"
        },
        "id": "gb1IGz7MAgEg",
        "outputId": "e1d5a4ef-84c5-412d-c7b9-0a5ffad8863d"
      },
      "execution_count": 4,
      "outputs": [
        {
          "output_type": "stream",
          "name": "stdout",
          "text": [
            "Collecting category-encoders\n",
            "  Downloading category_encoders-2.6.4-py2.py3-none-any.whl.metadata (8.0 kB)\n",
            "Requirement already satisfied: numpy>=1.14.0 in /usr/local/lib/python3.10/dist-packages (from category-encoders) (1.26.4)\n",
            "Requirement already satisfied: scikit-learn>=0.20.0 in /usr/local/lib/python3.10/dist-packages (from category-encoders) (1.5.2)\n",
            "Requirement already satisfied: scipy>=1.0.0 in /usr/local/lib/python3.10/dist-packages (from category-encoders) (1.13.1)\n",
            "Requirement already satisfied: statsmodels>=0.9.0 in /usr/local/lib/python3.10/dist-packages (from category-encoders) (0.14.4)\n",
            "Requirement already satisfied: pandas>=1.0.5 in /usr/local/lib/python3.10/dist-packages (from category-encoders) (2.2.2)\n",
            "Requirement already satisfied: patsy>=0.5.1 in /usr/local/lib/python3.10/dist-packages (from category-encoders) (0.5.6)\n",
            "Requirement already satisfied: python-dateutil>=2.8.2 in /usr/local/lib/python3.10/dist-packages (from pandas>=1.0.5->category-encoders) (2.8.2)\n",
            "Requirement already satisfied: pytz>=2020.1 in /usr/local/lib/python3.10/dist-packages (from pandas>=1.0.5->category-encoders) (2024.2)\n",
            "Requirement already satisfied: tzdata>=2022.7 in /usr/local/lib/python3.10/dist-packages (from pandas>=1.0.5->category-encoders) (2024.2)\n",
            "Requirement already satisfied: six in /usr/local/lib/python3.10/dist-packages (from patsy>=0.5.1->category-encoders) (1.16.0)\n",
            "Requirement already satisfied: joblib>=1.2.0 in /usr/local/lib/python3.10/dist-packages (from scikit-learn>=0.20.0->category-encoders) (1.4.2)\n",
            "Requirement already satisfied: threadpoolctl>=3.1.0 in /usr/local/lib/python3.10/dist-packages (from scikit-learn>=0.20.0->category-encoders) (3.5.0)\n",
            "Requirement already satisfied: packaging>=21.3 in /usr/local/lib/python3.10/dist-packages (from statsmodels>=0.9.0->category-encoders) (24.1)\n",
            "Downloading category_encoders-2.6.4-py2.py3-none-any.whl (82 kB)\n",
            "\u001b[2K   \u001b[90m━━━━━━━━━━━━━━━━━━━━━━━━━━━━━━━━━━━━━━━━\u001b[0m \u001b[32m82.0/82.0 kB\u001b[0m \u001b[31m2.3 MB/s\u001b[0m eta \u001b[36m0:00:00\u001b[0m\n",
            "\u001b[?25hInstalling collected packages: category-encoders\n",
            "Successfully installed category-encoders-2.6.4\n"
          ]
        }
      ]
    },
    {
      "cell_type": "markdown",
      "source": [
        "* Memory Management: The code optimizes the data types and uses a subset of the training data to manage memory consumption effectively.\n",
        "* Preprocessing: It includes target encoding for categorical features and scales numeric features.\n",
        "* Polynomial Features: Polynomial features are applied with interactions only, helping to reduce dimensionality.\n",
        "* Optuna Integration: It includes a hyperparameter tuning setup using Optuna for the XGBoost model.\n",
        "* Stacking Classifier: It combines predictions from XGBoost, LightGBM, and CatBoost for better performance."
      ],
      "metadata": {
        "id": "jywzn9KWDrNW"
      }
    },
    {
      "cell_type": "code",
      "source": [
        "pip install --upgrade xgboost"
      ],
      "metadata": {
        "colab": {
          "base_uri": "https://localhost:8080/"
        },
        "id": "M5P6_R6TGsA_",
        "outputId": "442a1350-5969-42d3-8b54-c98637c8f7aa"
      },
      "execution_count": 15,
      "outputs": [
        {
          "output_type": "stream",
          "name": "stdout",
          "text": [
            "Requirement already satisfied: xgboost in /usr/local/lib/python3.10/dist-packages (2.1.1)\n",
            "Requirement already satisfied: numpy in /usr/local/lib/python3.10/dist-packages (from xgboost) (1.26.4)\n",
            "Requirement already satisfied: nvidia-nccl-cu12 in /usr/local/lib/python3.10/dist-packages (from xgboost) (2.23.4)\n",
            "Requirement already satisfied: scipy in /usr/local/lib/python3.10/dist-packages (from xgboost) (1.13.1)\n"
          ]
        }
      ]
    },
    {
      "cell_type": "code",
      "source": [
        "gc.collect()"
      ],
      "metadata": {
        "colab": {
          "base_uri": "https://localhost:8080/"
        },
        "id": "lxpIao-7Hb_P",
        "outputId": "1933c472-a232-4802-a2c6-9d9c469a9d8c"
      },
      "execution_count": 18,
      "outputs": [
        {
          "output_type": "execute_result",
          "data": {
            "text/plain": [
              "1096"
            ]
          },
          "metadata": {},
          "execution_count": 18
        }
      ]
    },
    {
      "cell_type": "code",
      "source": [
        "gc.collect()"
      ],
      "metadata": {
        "colab": {
          "base_uri": "https://localhost:8080/"
        },
        "id": "Vy2umqn7IxjF",
        "outputId": "869c85a7-7733-462b-ba3a-26f4ffec8ff1"
      },
      "execution_count": 22,
      "outputs": [
        {
          "output_type": "execute_result",
          "data": {
            "text/plain": [
              "111346"
            ]
          },
          "metadata": {},
          "execution_count": 22
        }
      ]
    },
    {
      "cell_type": "code",
      "source": [
        "import warnings\n",
        "\n",
        "# Suppress warnings\n",
        "warnings.filterwarnings(\"ignore\")"
      ],
      "metadata": {
        "id": "CweYa5lUNxsy"
      },
      "execution_count": 26,
      "outputs": []
    },
    {
      "cell_type": "code",
      "source": [
        "import optuna\n",
        "import xgboost as xgb\n",
        "from sklearn.compose import ColumnTransformer\n",
        "from sklearn.preprocessing import StandardScaler\n",
        "from sklearn.model_selection import train_test_split\n",
        "from sklearn.ensemble import StackingClassifier\n",
        "from catboost import CatBoostClassifier\n",
        "import pandas as pd\n",
        "import matplotlib.pyplot as plt\n",
        "import category_encoders as ce\n",
        "import time\n",
        "import gc\n",
        "\n",
        "# Function to monitor time\n",
        "class MonitorTime:\n",
        "    def __init__(self, step):\n",
        "        self.step = step\n",
        "\n",
        "    def __enter__(self):\n",
        "        self.start_time = time.time()\n",
        "        return self\n",
        "\n",
        "    def __exit__(self, exc_type, exc_val, exc_tb):\n",
        "        end_time = time.time()\n",
        "        print(f\"{self.step} took {end_time - self.start_time:.2f} seconds\")\n",
        "\n",
        "# Load the data\n",
        "with MonitorTime(\"Loading data\"):\n",
        "    train_data = pd.read_csv('train_data.csv')  # Use full data for training\n",
        "    test_data = pd.read_csv('test_data.csv')\n",
        "\n",
        "# Separate features and target\n",
        "X = train_data.drop(columns=['output'])\n",
        "y = train_data['output']\n",
        "\n",
        "# Split data for validation\n",
        "with MonitorTime(\"Splitting data\"):\n",
        "    X_train, X_valid, y_train, y_valid = train_test_split(X, y, test_size=0.2, random_state=42)\n",
        "\n",
        "# Define categorical and numeric columns\n",
        "categorical_columns = ['subject', 'phase', 'state']\n",
        "numeric_columns = X.select_dtypes(include=['int64', 'float64']).columns.tolist()\n",
        "\n",
        "# Preprocessing Pipeline\n",
        "def create_preprocessor():\n",
        "    with MonitorTime(\"Creating preprocessor\"):\n",
        "        preprocessor = ColumnTransformer([\n",
        "            ('target_encode', ce.TargetEncoder(cols=categorical_columns), categorical_columns),\n",
        "            ('scaler', StandardScaler(), numeric_columns)\n",
        "        ])\n",
        "    return preprocessor\n",
        "\n",
        "preprocessor = create_preprocessor()\n",
        "\n",
        "# Fit and transform the training data with target encoding\n",
        "with MonitorTime(\"Applying target encoding\"):\n",
        "    X_train_transformed = preprocessor.fit_transform(X_train, y_train)\n",
        "    X_valid_transformed = preprocessor.transform(X_valid)\n",
        "\n",
        "def objective(trial):\n",
        "    param = {\n",
        "        'tree_method': 'gpu_hist',\n",
        "        'device': 'gpu',\n",
        "        'n_estimators': trial.suggest_int('n_estimators', 100, 1500),  # Wider range\n",
        "        'max_depth': trial.suggest_int('max_depth', 3, 15),  # Increased max depth\n",
        "        'learning_rate': trial.suggest_float('learning_rate', 0.001, 0.3, log=True),  # Broader range\n",
        "        'subsample': trial.suggest_float('subsample', 0.5, 1.0),\n",
        "        'colsample_bytree': trial.suggest_float('colsample_bytree', 0.5, 1.0),\n",
        "        'lambda': trial.suggest_float('lambda', 1e-5, 10.0, log=True),  # Broader range\n",
        "        'alpha': trial.suggest_float('alpha', 1e-5, 10.0, log=True)   # Broader range\n",
        "    }\n",
        "\n",
        "    model = xgb.XGBClassifier(**param)\n",
        "    model.fit(X_train_transformed, y_train)\n",
        "    return model.score(X_valid_transformed, y_valid)\n",
        "\n",
        "# Create Optuna study for hyperparameter tuning\n",
        "with MonitorTime(\"Running Optuna study\"):\n",
        "    study = optuna.create_study(direction='maximize')\n",
        "    study.optimize(objective, n_trials=20)  # Limit trials to manage memory\n",
        "\n",
        "# Display best hyperparameters\n",
        "print(\"Best Hyperparameters:\", study.best_params)\n",
        "\n",
        "# Train best XGBoost model\n",
        "xgb_model = xgb.XGBClassifier(**study.best_params)\n",
        "with MonitorTime(\"Training final XGBoost model\"):\n",
        "    xgb_model.fit(X_train_transformed, y_train)\n",
        "\n",
        "# Feature Importance Plot\n",
        "with MonitorTime(\"Plotting feature importance\"):\n",
        "    xgb.plot_importance(xgb_model)\n",
        "    plt.show()\n",
        "\n",
        "# Prepare test data for prediction\n",
        "with MonitorTime(\"Preparing test data\"):\n",
        "    test_data_encoded = preprocessor.transform(test_data)\n",
        "\n",
        "# CatBoost Classifier\n",
        "catboost_model = CatBoostClassifier(task_type='GPU', verbose=0)  # CatBoost with GPU\n",
        "\n",
        "# Stacking model\n",
        "stacked_model = StackingClassifier(\n",
        "    estimators=[('xgb', xgb_model), ('catboost', catboost_model)],\n",
        "    final_estimator=xgb.XGBClassifier()  # Using XGBoost as the final estimator\n",
        ")\n",
        "\n",
        "# Train and predict using stacking\n",
        "with MonitorTime(\"Training stacking model\"):\n",
        "    stacked_model.fit(X_train_transformed, y_train)\n",
        "\n",
        "with MonitorTime(\"Making predictions\"):\n",
        "    test_predictions = stacked_model.predict(test_data_encoded)\n",
        "\n",
        "# Save predictions for submission\n",
        "with MonitorTime(\"Saving predictions\"):\n",
        "    submission_df = pd.DataFrame({\n",
        "        'id': test_data.index,\n",
        "        'output': test_predictions\n",
        "    })\n",
        "    submission_df.to_csv('submission_stacked.csv', index=False)\n",
        "\n",
        "print(\"Predictions saved to submission_stacked2.csv\")\n",
        "\n",
        "# Clean up memory\n",
        "gc.collect()"
      ],
      "metadata": {
        "colab": {
          "base_uri": "https://localhost:8080/",
          "height": 1000
        },
        "id": "a4hwEvQiIwhQ",
        "outputId": "fc768f63-bab6-4311-9c8c-08bfc156ea72"
      },
      "execution_count": 27,
      "outputs": [
        {
          "output_type": "stream",
          "name": "stderr",
          "text": [
            "[I 2024-10-19 19:18:08,831] A new study created in memory with name: no-name-34f5de8d-b518-4abc-b92f-f7a5886c8a75\n"
          ]
        },
        {
          "output_type": "stream",
          "name": "stdout",
          "text": [
            "Loading data took 0.54 seconds\n",
            "Splitting data took 0.01 seconds\n",
            "Creating preprocessor took 0.00 seconds\n",
            "Applying target encoding took 0.10 seconds\n"
          ]
        },
        {
          "output_type": "stream",
          "name": "stderr",
          "text": [
            "[I 2024-10-19 19:18:11,160] Trial 0 finished with value: 0.8538713195201745 and parameters: {'n_estimators': 776, 'max_depth': 3, 'learning_rate': 0.04353396078675053, 'subsample': 0.5039884802499481, 'colsample_bytree': 0.8838428159709926, 'lambda': 0.023868234768160555, 'alpha': 0.087621776680293}. Best is trial 0 with value: 0.8538713195201745.\n",
            "[I 2024-10-19 19:18:17,406] Trial 1 finished with value: 0.8407851690294439 and parameters: {'n_estimators': 319, 'max_depth': 9, 'learning_rate': 0.002831956461430996, 'subsample': 0.7380920520451759, 'colsample_bytree': 0.6645893938266938, 'lambda': 0.5319219126984857, 'alpha': 5.382835728697154}. Best is trial 0 with value: 0.8538713195201745.\n",
            "[I 2024-10-19 19:18:18,717] Trial 2 finished with value: 0.8386041439476554 and parameters: {'n_estimators': 498, 'max_depth': 3, 'learning_rate': 0.0015340798339090504, 'subsample': 0.626835598416845, 'colsample_bytree': 0.7391119959318266, 'lambda': 0.0003108046901624853, 'alpha': 0.6936008876221961}. Best is trial 0 with value: 0.8538713195201745.\n",
            "[I 2024-10-19 19:18:27,285] Trial 3 finished with value: 0.8571428571428571 and parameters: {'n_estimators': 1130, 'max_depth': 14, 'learning_rate': 0.16946453772074938, 'subsample': 0.706944220171168, 'colsample_bytree': 0.6314207710790593, 'lambda': 6.635022018091383e-05, 'alpha': 0.15831752853519643}. Best is trial 3 with value: 0.8571428571428571.\n",
            "[I 2024-10-19 19:18:30,783] Trial 4 finished with value: 0.8593238822246456 and parameters: {'n_estimators': 916, 'max_depth': 7, 'learning_rate': 0.2642041580451899, 'subsample': 0.7702423266813991, 'colsample_bytree': 0.8320456718157465, 'lambda': 0.006101016097933144, 'alpha': 0.006069020160319749}. Best is trial 4 with value: 0.8593238822246456.\n",
            "[I 2024-10-19 19:18:35,739] Trial 5 finished with value: 0.8582333696837514 and parameters: {'n_estimators': 452, 'max_depth': 15, 'learning_rate': 0.11196547585722057, 'subsample': 0.6773065113269046, 'colsample_bytree': 0.6236083180229823, 'lambda': 0.25718040049102564, 'alpha': 0.01011232839940664}. Best is trial 4 with value: 0.8593238822246456.\n",
            "[I 2024-10-19 19:18:40,116] Trial 6 finished with value: 0.8582333696837514 and parameters: {'n_estimators': 319, 'max_depth': 8, 'learning_rate': 0.037925150485235086, 'subsample': 0.6328760500811155, 'colsample_bytree': 0.7457712023630055, 'lambda': 0.41409839157986095, 'alpha': 0.008770402709084316}. Best is trial 4 with value: 0.8593238822246456.\n",
            "[I 2024-10-19 19:19:11,897] Trial 7 finished with value: 0.8560523446019629 and parameters: {'n_estimators': 791, 'max_depth': 14, 'learning_rate': 0.004141452202459492, 'subsample': 0.9753281630681238, 'colsample_bytree': 0.8212144272687903, 'lambda': 8.658803044229726, 'alpha': 1.3308855961322703}. Best is trial 4 with value: 0.8593238822246456.\n",
            "[I 2024-10-19 19:19:13,602] Trial 8 finished with value: 0.8538713195201745 and parameters: {'n_estimators': 518, 'max_depth': 4, 'learning_rate': 0.031487803287417536, 'subsample': 0.5608290074949515, 'colsample_bytree': 0.5104353776114773, 'lambda': 0.00013942953116310398, 'alpha': 0.008697060278327864}. Best is trial 4 with value: 0.8593238822246456.\n",
            "[I 2024-10-19 19:19:23,717] Trial 9 finished with value: 0.8538713195201745 and parameters: {'n_estimators': 903, 'max_depth': 12, 'learning_rate': 0.029298984979500894, 'subsample': 0.6664395175700621, 'colsample_bytree': 0.6993049184478559, 'lambda': 1.1258842560053722e-05, 'alpha': 7.804785634854904}. Best is trial 4 with value: 0.8593238822246456.\n",
            "[I 2024-10-19 19:19:36,853] Trial 10 finished with value: 0.8680479825517994 and parameters: {'n_estimators': 1409, 'max_depth': 6, 'learning_rate': 0.010271183666581949, 'subsample': 0.8583749136186822, 'colsample_bytree': 0.9988309346665843, 'lambda': 0.003062102714269216, 'alpha': 5.338599128652177e-05}. Best is trial 10 with value: 0.8680479825517994.\n",
            "[I 2024-10-19 19:19:49,858] Trial 11 finished with value: 0.8658669574700109 and parameters: {'n_estimators': 1489, 'max_depth': 6, 'learning_rate': 0.010212339375801117, 'subsample': 0.8605171970399402, 'colsample_bytree': 0.9983318414930633, 'lambda': 0.004509005144692937, 'alpha': 1.7480368513390988e-05}. Best is trial 10 with value: 0.8680479825517994.\n",
            "[I 2024-10-19 19:20:03,781] Trial 12 finished with value: 0.8702290076335878 and parameters: {'n_estimators': 1462, 'max_depth': 6, 'learning_rate': 0.008252647239585268, 'subsample': 0.8798353150886109, 'colsample_bytree': 0.9915078582609945, 'lambda': 0.0021412922470020242, 'alpha': 1.1851271361097405e-05}. Best is trial 12 with value: 0.8702290076335878.\n",
            "[I 2024-10-19 19:20:13,386] Trial 13 finished with value: 0.8636859323882224 and parameters: {'n_estimators': 1492, 'max_depth': 5, 'learning_rate': 0.008962531395197029, 'subsample': 0.8942799428503623, 'colsample_bytree': 0.9983120312430457, 'lambda': 0.0012101036094909787, 'alpha': 1.0458550460983804e-05}. Best is trial 12 with value: 0.8702290076335878.\n",
            "[I 2024-10-19 19:20:42,617] Trial 14 finished with value: 0.8658669574700109 and parameters: {'n_estimators': 1240, 'max_depth': 11, 'learning_rate': 0.007379923151464704, 'subsample': 0.8474279167639371, 'colsample_bytree': 0.9273789015114395, 'lambda': 0.028545419931855838, 'alpha': 0.00022186306770208153}. Best is trial 12 with value: 0.8702290076335878.\n",
            "[I 2024-10-19 19:20:53,584] Trial 15 finished with value: 0.8691384950926936 and parameters: {'n_estimators': 1286, 'max_depth': 6, 'learning_rate': 0.016826913215230756, 'subsample': 0.9919875593456059, 'colsample_bytree': 0.932584269319184, 'lambda': 0.0008440235900511421, 'alpha': 0.00013271710692551938}. Best is trial 12 with value: 0.8702290076335878.\n",
            "[I 2024-10-19 19:21:04,754] Trial 16 finished with value: 0.8636859323882224 and parameters: {'n_estimators': 1213, 'max_depth': 10, 'learning_rate': 0.07664684828016506, 'subsample': 0.9816721447705694, 'colsample_bytree': 0.9282701194894479, 'lambda': 0.0009976617073579348, 'alpha': 0.0003531850026053337}. Best is trial 12 with value: 0.8702290076335878.\n",
            "[I 2024-10-19 19:21:20,897] Trial 17 finished with value: 0.8658669574700109 and parameters: {'n_estimators': 1322, 'max_depth': 8, 'learning_rate': 0.015829346886564143, 'subsample': 0.9335041348584505, 'colsample_bytree': 0.9179194178132231, 'lambda': 3.173352657302952e-05, 'alpha': 0.0005989378631690782}. Best is trial 12 with value: 0.8702290076335878.\n",
            "[I 2024-10-19 19:21:27,859] Trial 18 finished with value: 0.8702290076335878 and parameters: {'n_estimators': 1062, 'max_depth': 5, 'learning_rate': 0.0037558713574506503, 'subsample': 0.9991764984580919, 'colsample_bytree': 0.8342562597640455, 'lambda': 0.0003643975492789433, 'alpha': 7.678984949143699e-05}. Best is trial 12 with value: 0.8702290076335878.\n",
            "[I 2024-10-19 19:21:34,799] Trial 19 finished with value: 0.8538713195201745 and parameters: {'n_estimators': 1053, 'max_depth': 5, 'learning_rate': 0.0011197845750576193, 'subsample': 0.8043641621660212, 'colsample_bytree': 0.8016958452051532, 'lambda': 0.04064499454695009, 'alpha': 0.001780606708364923}. Best is trial 12 with value: 0.8702290076335878.\n"
          ]
        },
        {
          "output_type": "stream",
          "name": "stdout",
          "text": [
            "Running Optuna study took 205.97 seconds\n",
            "Best Hyperparameters: {'n_estimators': 1462, 'max_depth': 6, 'learning_rate': 0.008252647239585268, 'subsample': 0.8798353150886109, 'colsample_bytree': 0.9915078582609945, 'lambda': 0.0021412922470020242, 'alpha': 1.1851271361097405e-05}\n",
            "Training final XGBoost model took 55.63 seconds\n"
          ]
        },
        {
          "output_type": "display_data",
          "data": {
            "text/plain": [
              "<Figure size 640x480 with 1 Axes>"
            ],
            "image/png": "[encoded data removed]"
          },
          "metadata": {}
        },
        {
          "output_type": "stream",
          "name": "stdout",
          "text": [
            "Plotting feature importance took 4.16 seconds\n",
            "Preparing test data took 0.03 seconds\n"
          ]
        },
        {
          "output_type": "stream",
          "name": "stderr",
          "text": [
            "Warning: less than 75% GPU memory available for training. Free: 5649.0625 Total: 15102.0625\n",
            "Warning: less than 75% GPU memory available for training. Free: 5649.0625 Total: 15102.0625\n",
            "Warning: less than 75% GPU memory available for training. Free: 5649.0625 Total: 15102.0625\n",
            "Warning: less than 75% GPU memory available for training. Free: 5649.0625 Total: 15102.0625\n",
            "Warning: less than 75% GPU memory available for training. Free: 5649.0625 Total: 15102.0625\n",
            "Warning: less than 75% GPU memory available for training. Free: 5649.0625 Total: 15102.0625\n"
          ]
        },
        {
          "output_type": "stream",
          "name": "stdout",
          "text": [
            "Training stacking model took 577.64 seconds\n",
            "Making predictions took 0.05 seconds\n",
            "Saving predictions took 0.00 seconds\n",
            "Predictions saved to submission_stacked2.csv\n"
          ]
        },
        {
          "output_type": "execute_result",
          "data": {
            "text/plain": [
              "119706"
            ]
          },
          "metadata": {},
          "execution_count": 27
        }
      ]
    },
    {
      "cell_type": "code",
      "source": [
        "pip install imbalanced-learn"
      ],
      "metadata": {
        "colab": {
          "base_uri": "https://localhost:8080/"
        },
        "id": "gfQi2IoRQLVp",
        "outputId": "35dc2e0d-f247-46da-82de-6c57d789e306"
      },
      "execution_count": 28,
      "outputs": [
        {
          "output_type": "stream",
          "name": "stdout",
          "text": [
            "Requirement already satisfied: imbalanced-learn in /usr/local/lib/python3.10/dist-packages (0.12.4)\n",
            "Requirement already satisfied: numpy>=1.17.3 in /usr/local/lib/python3.10/dist-packages (from imbalanced-learn) (1.26.4)\n",
            "Requirement already satisfied: scipy>=1.5.0 in /usr/local/lib/python3.10/dist-packages (from imbalanced-learn) (1.13.1)\n",
            "Requirement already satisfied: scikit-learn>=1.0.2 in /usr/local/lib/python3.10/dist-packages (from imbalanced-learn) (1.5.2)\n",
            "Requirement already satisfied: joblib>=1.1.1 in /usr/local/lib/python3.10/dist-packages (from imbalanced-learn) (1.4.2)\n",
            "Requirement already satisfied: threadpoolctl>=2.0.0 in /usr/local/lib/python3.10/dist-packages (from imbalanced-learn) (3.5.0)\n"
          ]
        }
      ]
    },
    {
      "cell_type": "code",
      "source": [
        "import warnings\n",
        "warnings.filterwarnings(\"ignore\")\n",
        "\n",
        "import pandas as pd\n",
        "import numpy as np\n",
        "import xgboost as xgb\n",
        "from imblearn.over_sampling import SMOTE\n",
        "from sklearn.model_selection import train_test_split\n",
        "from sklearn.preprocessing import StandardScaler\n",
        "from sklearn.compose import ColumnTransformer\n",
        "from sklearn.pipeline import Pipeline\n",
        "from sklearn.metrics import classification_report, accuracy_score\n",
        "from category_encoders import TargetEncoder\n",
        "\n",
        "# Load the data\n",
        "train_data = pd.read_csv('train_data.csv')\n",
        "test_data = pd.read_csv('test_data.csv')\n",
        "\n",
        "# Separate features and target\n",
        "X = train_data.drop(columns=['output'])\n",
        "y = train_data['output']\n",
        "\n",
        "# Split data for validation\n",
        "X_train, X_valid, y_train, y_valid = train_test_split(X, y, test_size=0.2, random_state=42)\n",
        "\n",
        "# Define categorical and numeric columns\n",
        "categorical_columns = ['subject', 'phase', 'state']\n",
        "numeric_columns = X.select_dtypes(include=['int64', 'float64']).columns.tolist()\n",
        "\n",
        "# Preprocessing Pipeline\n",
        "preprocessor = ColumnTransformer([\n",
        "    ('target_encode', TargetEncoder(cols=categorical_columns), categorical_columns),\n",
        "    ('scaler', StandardScaler(), numeric_columns)\n",
        "])\n",
        "\n",
        "# Apply preprocessing to training data\n",
        "X_train_transformed = preprocessor.fit_transform(X_train, y_train)  # Pass y_train here\n",
        "X_valid_transformed = preprocessor.transform(X_valid)\n",
        "\n",
        "# Apply SMOTE to training data\n",
        "smote = SMOTE(random_state=42)\n",
        "X_train_balanced, y_train_balanced = smote.fit_resample(X_train_transformed, y_train)\n",
        "\n",
        "# Train XGBoost model with balanced data and specified hyperparameters\n",
        "model = xgb.XGBClassifier(\n",
        "    n_estimators=1462,\n",
        "    max_depth=6,\n",
        "    learning_rate=0.008252647239585268,\n",
        "    subsample=0.8798353150886109,\n",
        "    colsample_bytree=0.9915078582609945,\n",
        "    reg_lambda=0.0021412922470020242,  # Fixed from lambda to reg_lambda\n",
        "    alpha=1.1851271361097405e-05,\n",
        "    scale_pos_weight=1,\n",
        "    use_label_encoder=False,\n",
        "    eval_metric='mlogloss'  # Set an appropriate evaluation metric\n",
        ")\n",
        "\n",
        "model.fit(X_train_balanced, y_train_balanced)\n",
        "\n",
        "# Validate the model\n",
        "y_pred = model.predict(X_valid_transformed)\n",
        "print(\"Validation Accuracy:\", accuracy_score(y_valid, y_pred))\n",
        "print(\"Classification Report:\\n\", classification_report(y_valid, y_pred))\n",
        "\n",
        "# Prepare test data for prediction\n",
        "test_data_transformed = preprocessor.transform(test_data)\n",
        "test_predictions = model.predict(test_data_transformed)\n",
        "\n",
        "# Save predictions for submission\n",
        "submission_df = pd.DataFrame({\n",
        "    'id': test_data.index,\n",
        "    'output': test_predictions\n",
        "})\n",
        "submission_df.to_csv('submission_xgb_smote.csv', index=False)\n",
        "\n",
        "print(\"Predictions saved to submission_xgb_smote.csv\")"
      ],
      "metadata": {
        "colab": {
          "base_uri": "https://localhost:8080/"
        },
        "id": "UJcQMAQKOrDy",
        "outputId": "36255d82-8638-49ff-9eb3-0edfd9074572"
      },
      "execution_count": 31,
      "outputs": [
        {
          "output_type": "stream",
          "name": "stdout",
          "text": [
            "Validation Accuracy: 0.8669574700109052\n",
            "Classification Report:\n",
            "               precision    recall  f1-score   support\n",
            "\n",
            "           0       0.65      0.37      0.47       148\n",
            "           1       0.89      0.96      0.92       769\n",
            "\n",
            "    accuracy                           0.87       917\n",
            "   macro avg       0.77      0.67      0.70       917\n",
            "weighted avg       0.85      0.87      0.85       917\n",
            "\n",
            "Predictions saved to submission_xgb_smote.csv\n"
          ]
        }
      ]
    },
    {
      "cell_type": "code",
      "source": [
        "import gc\n",
        "gc.collect()"
      ],
      "metadata": {
        "colab": {
          "base_uri": "https://localhost:8080/"
        },
        "id": "rumXIey9S88-",
        "outputId": "04548d58-45cc-44e0-85a4-6930d5c9a473"
      },
      "execution_count": 1,
      "outputs": [
        {
          "output_type": "execute_result",
          "data": {
            "text/plain": [
              "54"
            ]
          },
          "metadata": {},
          "execution_count": 1
        }
      ]
    },
    {
      "cell_type": "markdown",
      "source": [
        "# Brian's Section"
      ],
      "metadata": {
        "id": "WwSMbbKAy-Ng"
      }
    }
  ]
}